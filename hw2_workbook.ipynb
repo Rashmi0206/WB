{
 "cells": [
  {
   "cell_type": "markdown",
   "metadata": {},
   "source": [
    "# HW 2 - Naive Bayes in Hadoop MR\n",
    "__`MIDS w261: Machine Learning at Scale | UC Berkeley School of Information | Fall 2018`__\n",
    "\n",
    "In the live sessions for week 2 and week 3 you got some practice designing and debugging Hadoop Streaming jobs. In this homework we'll use Hadoop MapReduce to implement your first parallelized machine learning algorithm: Naive Bayes. As you develop your implementation you'll test it on a small dataset that matches the 'Chinese Example' in the _Manning, Raghavan and Shutze_ reading for Week 2. For the main task in this assignment you'll be working with a small subset of the Enron Spam/Ham Corpus. By the end of this assignment you should be able to:\n",
    "* __... describe__ the Naive Bayes algorithm including both training and inference.\n",
    "* __... perform__ EDA on a corpus using Hadoop MR.\n",
    "* __... implement__ parallelized Naive Bayes.\n",
    "* __... constrast__ partial, unordered and total order sort and their implementations in Hadoop Streaming.\n",
    "* __... explain__ how smoothing affects the bias and variance of a Multinomial Naive Bayes model.\n",
    "\n",
    "As always, your work will be graded both on the correctness of your output and on the clarity and design of your code. __Please refer to the `README` for homework submission instructions.__ "
   ]
  },
  {
   "cell_type": "markdown",
   "metadata": {},
   "source": [
    "## Notebook Setup\n",
    "Before starting, run the following cells to confirm your setup."
   ]
  },
  {
   "cell_type": "code",
   "execution_count": 1,
   "metadata": {},
   "outputs": [],
   "source": [
    "# imports\n",
    "import numpy as np\n",
    "import matplotlib.pyplot as plt\n",
    "%matplotlib inline\n",
    "%reload_ext autoreload\n",
    "%autoreload 2"
   ]
  },
  {
   "cell_type": "code",
   "execution_count": 2,
   "metadata": {},
   "outputs": [],
   "source": [
    "# global vars (paths) - ADJUST AS NEEDED\n",
    "JAR_FILE = \"/usr/lib/hadoop-mapreduce/hadoop-streaming.jar\"\n",
    "HDFS_DIR = \"/user/root/HW2/\"\n",
    "HOME_DIR = \"/media/notebooks/Assignments/HW2\" # FILL IN HERE eg. /media/notebooks/Assignments/HW2"
   ]
  },
  {
   "cell_type": "code",
   "execution_count": 3,
   "metadata": {},
   "outputs": [],
   "source": [
    "# save path for use in Hadoop jobs (-cmdenv PATH={PATH})\n",
    "from os import environ\n",
    "PATH  = environ['PATH']"
   ]
  },
  {
   "cell_type": "code",
   "execution_count": 4,
   "metadata": {},
   "outputs": [],
   "source": [
    "# data path\n",
    "ENRON = \"data/enronemail_1h.txt\""
   ]
  },
  {
   "cell_type": "code",
   "execution_count": 5,
   "metadata": {},
   "outputs": [
    {
     "name": "stdout",
     "output_type": "stream",
     "text": [
      "Found 2 items\n",
      "drwxr-xr-x   - root supergroup          0 2021-06-07 23:40 HW2\n",
      "drwxr-xr-x   - root supergroup          0 2021-06-01 17:59 demo3\n",
      "mkdir: `/user/root/HW2': File exists\n"
     ]
    }
   ],
   "source": [
    "# make the HDFS directory if it doesn't already exist\n",
    "!hdfs dfs -ls \n",
    "!hdfs dfs -mkdir {HDFS_DIR}"
   ]
  },
  {
   "cell_type": "markdown",
   "metadata": {},
   "source": [
    "# Question 1: Hadoop MapReduce Key Takeaways.  \n",
    "\n",
    "This assignment will be the only one in which you use Hadoop Streaming to implement a distributed algorithm. The key reason we continue to teach Hadoop streaming is because of the way it forces the programmer to think carefully about what is happening under the hood when you parallelize a calculation. This question will briefly highlight some of the most important concepts that you need to understand about Hadoop Streaming and MapReduce before we move on to Spark next week.   \n",
    "\n",
    "### Q1 Tasks:\n",
    "\n",
    "* __a) short response:__ What \"programming paradigm\" is Hadoop MapReduce based on? What are the main ideas of this programming paradigm and how does MapReduce exemplify these ideas?\n",
    "\n",
    "* __b) short response:__ What is the Hadoop Shuffle? When does it happen? Why is it potentially costly? Describe one specific thing we can we do to mitigate the cost associated with this stage of our Hadoop Streaming jobs.\n",
    "\n",
    "* __c) short response:__ In Hadoop Streaming why do the input and output record format of a combiner script have to be the same? [__`HINT`__ _what level of combining does the framework guarantee? what is the relationship between the record format your mapper emits and the format your reducer expects to receive?_]\n",
    "\n",
    "* __d) short response:__ To what extent can you control the level of parallelization of your Hadoop Streaming jobs? Please be specific.\n",
    "\n",
    "* __e) short response:__ What change in the kind of computing resources available prompted the creation of parallel computation frameworks like Hadoop? "
   ]
  },
  {
   "cell_type": "markdown",
   "metadata": {},
   "source": [
    "### Q1 Student Answers:\n",
    "\n",
    "> __a)__ Functional programming involves splitting a problem into smaller functions that can be parrallelized on different nodes .These nodes do not communicate with each other, function in silos and avoid having a global state or variable. This type of programming is done with expressions. Hadoop mapreduce consist of high order functions like map and reduce that work using this paradigm. They accept the other function as an argument.Map phase generally runs in parallel on different chunks of data  distributed across different resources and emits an output that goes to reduce phase which aggregates the inetermidiate output of mappers. Between the output and input of these functions there is no global state or variable, that is the entire framework is stateless.\n",
    "\n",
    "> __b)__ Hadoop shuffle is the process by which hadoop streaming performs sorting within each partition and transfers each partition of the map outputs to specific reducers so that all the same keys go to same reducer. This process happens after the mapper has produced the output and before reducer phase starts. This is the most expensive part of the framework.  It is costly because it performs merge sort on the output of mappers once all mappers have completed their task and gathers all the same keys together. This operation is of nlogn where n is the number of records that go to reducer phase. We can mitigate this cost by reducing number of records to reducer phase by using local aggregations and combiners on the mapper output.\n",
    "\n",
    "> __c)__ Input and output of combiner script should be same format because it requires to take the output of mapper and just aggregate it to reduce the number of records that are sent to shuffle process. It does not need to perform any other calculation.  \n",
    "\n",
    "> __d)__ User can control what computation or program can run in mapper phase in parallel but cannot control number of mappers in hadoop streaming jobs. It depends on how many blocks the data is span across.The number of mappers depends on the data block size for each node and size of data to be processed. If data is 640MB file and data block size is 128 MB then hadoop will run 5 mappers per mapReduce job.However, user can specifify number of reduce tasks in hadoop streaming job, hence number of reducers running in parallel can be controlled.\n",
    "\n",
    "> __e)__ Memory is getting cheaper and network is becoming faster.At the same time, there are several devices and products that is making dat bigger and bigger. This prompted creation of parallel computation framwords as it has become cheaper and efficient to process data on distributed network and processes."
   ]
  },
  {
   "cell_type": "markdown",
   "metadata": {},
   "source": [
    "# Question 2: MapReduce Design Patterns.  \n",
    "\n",
    "In the last two live sessions and in your readings from Lin & Dyer you encountered a number of techniques for manipulating the logistics of a MapReduce implementation to ensure that the right information is available at the right time and location. In this question we'll review a few of the key techniques you learned.   \n",
    "\n",
    "### Q2 Tasks:\n",
    "\n",
    "* __a) short response:__ What are counters (in the context of Hadoop Streaming)? How are they useful? What kinds of counters does Hadoop provide for you? How do you create your own custom counter?\n",
    "\n",
    "* __b) short response:__ What are composite keys? How are they useful? How are they related to the idea of custom partitioning?\n",
    "\n",
    "* __c) short response:__ What is the order inversion pattern? What problem does it help solve? How do we implement it? "
   ]
  },
  {
   "cell_type": "markdown",
   "metadata": {},
   "source": [
    "### Q2 Student Answers:\n",
    "\n",
    "> __a)__ Whenever a hadoop streaming job gets executed, Hadoop Framework initiates Counters to keep track of job statistics like the number of bytes read, the number of rows read, the number of rows written etc after each task.This gives information to users regarding how much of data is being processed and produced by each task, which is specially useful to monitor the smount of work each reducer node is doing. It is also helful to monitor the effectiveness of comniners in reducing input to shuffle. It also gives info to confirm that the expected amount of input was processed and expected output amount of output was produced.There are some built-in Counters in Hadoop for every job. \n",
    "\n",
    "    1) MapReduce Task Counters: collects tasks information over the course of their execution and then aggregate results over all the tasks.\n",
    "    2) File System Counter: It tracks the number of bytes read by the file system and a number of bytes written.\n",
    "    3) Job Counter: Jobtracker (or application master in YARN) maintain Job Counters, so they don’t need to be sent across the network.\n",
    "Custom Counters can be used to have track of any kind of statistics about the records written as logic in Mapper and Reducers.It is useful in the debugging process to find the number of Bad Records.Custom counters are a slight departure from statelessness, however in this case the framework manages so that you can increment them from any node without causing a race condition.\n",
    "To use a custom counter we can write an appropriately formatted line to the standard error stream. For example the following line would increment a counter called 'counter-name' in group 'MyWordCounters' by 10:\n",
    "        sys.stderr.write(\"reporter:counter:MyWordCounters,counter-name,10\\n\")\n",
    "\n",
    "\n",
    "> __b)__ For complex operation,we may need to sort not just by the key but also by value.This is called a 'secondary sort'. For this, we may need to have composite key that constitute of 2 or more fields in the data and specified in hadoop streaming job to be used for sorting instead of default sorting.We can tell Hadoop that we want to make comparisons (for sorting) based on the fields in this composite keyas well as the order and the data type to consider for sorting. \n",
    "User can also define custom partitioning in mapreduce. User can include the keys of the custom partitioning in the composite key and can tell Hadoop to use that part of composite key to sort partitions. In this way, user can achieve not only sorted output within custom partition but also have the partitions in an order as well.\n",
    "\n",
    "> __c)__ The order inversion is design pattern that is useful when we need reducers to reduce to ratio/relative frequencies or calculations of the nature that requires to get metrics based on total number of records and not just records within a key. For such calculations, we will need the output of mapper's computation in the beginning of reduce task before reducers begins to calculate. This design exploits the sorting phase of MapReduce to push data needed for calculations to the reducer ahead of the data that will be manipulated.For example, with understanding of hadoop's default sorting, the total records can be emitted by mapper as an additional key with a special character (lets say as '*total'). Since hadoop will always sort special character at the top, the output to reducers will have this additional key in the beginning itself.\n"
   ]
  },
  {
   "cell_type": "markdown",
   "metadata": {},
   "source": [
    "# Question 3: Understanding Total Order Sort\n",
    "\n",
    "The key challenge in distributed computing is to break a problem into a set of sub-problems that can be performed without communicating with each other. Ideally, we should be able to define an arbirtary number of splits and still get the right result, but that is not always possible. Parallelization becomes particularly challenging when we need to make comparisons between records, for example when sorting. Total Order Sort allows us to order large datasets in a way that enables efficient retrieval of results. Before beginning this assignment, make sure you have read and understand the [Total Order Sort Notebook](https://github.com/UCB-w261/main/tree/master/HelpfulResources/TotalSortGuide/_total-sort-guide-spark2.01-JAN27-2017.ipynb). You can skip the first two MRJob sections, but the rest of section III and all of section IV are **very** important (and apply to Hadoop Streaming) so make sure to read them closely. Feel free to read the Spark sections as well but you won't be responsible for that material until later in the course. To verify your understanding, answer the following questions.\n",
    "\n",
    "### Q3 Tasks:\n",
    "\n",
    "* __a) short response:__ What is the difference between a partial sort, an unordered total sort, and a total order sort? From the programmer's perspective, what does total order sort allow us to do that we can't with unordered total? Why is this important with large datasets?\n",
    "\n",
    "* __b) short response:__ Which phase of a MapReduce job is leveraged to implement Total Order Sort? Which default behaviors must be changed. Why must they be changed?\n",
    "\n",
    "* __c) short response:__ Describe in words how to configure a Hadoop Streaming job for the custom sorting and partitioning that is required for Total Order Sort.  \n",
    "\n",
    "* __d) short response:__ Explain why we need to use an inverse hash code function.\n",
    "\n",
    "* __e) short response:__ Where does this function need to be located so that a Total Order Sort can be performed?"
   ]
  },
  {
   "cell_type": "markdown",
   "metadata": {},
   "source": [
    "### Q3 Student Answers:\n",
    "\n",
    "> __a)__ In Partial Sort, the reducer output will partition file/s and each key value in partition file will be sorted based on the default key. In unordered sort, the sorting within partition files based upon a specified key. Total sort will not only have keys within each partition file sorted in specified way but will also have partition files in an order.\n",
    "Total order sort allows user to define ordering of partitions Unordered sort where partition files will need to be re-stacked to generate a total ordering. We will need small post-processing step that is required to sort the partition files after the map-reduce job finishes. This is not needed in Total order sort since it allows user to define ordering of partitions in the hadoop streaming job itself. \n",
    "In unordered sort, since we dont know which partition file has top or bottom results,for large dataset it is inefficient. For big data it is important information which can avoid going through entire data. \n",
    "\n",
    "> __b)__ Mapping phase is used to define custom partitioning, instead of hadoop's default partitioning. However, we need to reverse engineer hadoop hash function to define partition key so that we can create partition keys in order for human reading rather than hadoop's inbuilt ordering of characters. This key needs to be specified in hadoop streaming job and we need to tell hadoop to use custom partitioning so that shuffle phase of mapreduce job can pick this key to send sorted order of partition files to reducers. If we dont specify in hadoop streaming job, hadoop will create partitions and sort with its default behaviour. That may cause imbalance in data that are sent to reducers and there may be situation where one reducer may process larger part of data than other reducers.\n",
    "\n",
    "> __c)__ For Custom sorting, we need to  add three parameters to Hadoop Streaming command:\n",
    "\n",
    "        -D stream.num.map.output.key.fields=n : tells Hadoop to treat first n (tab separated) fields as a composite key.\n",
    "\n",
    "        -D mapreduce.job.output.key.comparator.class=org.apache.hadoop.mapred.lib.KeyFieldBasedComparator : tells Hadoop that we want to make comparisons (for sorting) based on the fields in this composite key\n",
    "\n",
    "        -D mapreduce.partition.keycomparator.options=\"-ki,i -kn,n \": Tells Hadoop to perform a sort on the ith field in the composite key and then break ties by sorting on the nth field in the composite key. \n",
    "\n",
    "    For custom partitioning, Hadoop provides a way to partition the data across reducers in a user-defined way. This is done telling Hadoop to use all or part of the composite key as a partitioning key. All lines with the same partition key are guaranteed to be processed by the same reducer. To use custom partitioning, there are 2 more parameters we need to add to our Hadoop Streaming Command:\n",
    "\n",
    "        -D mapreduce.partition.keypartitioner.options=\"-k1,1\": tells Hadoop that we want to use the first key field as a partition key. We can set any key in mapper output to be set as partition key\n",
    "\n",
    "        -partitioner org.apache.hadoop.mapred.lib.KeyFieldBasedPartitioner: tells Hadoop that we want to partition the data in a custom way.\n",
    "\n",
    "> __d)__ By default, Hadoop computes the partition index for keys produced by mappers. When we configure Hadoop Streaming to use KeyBasedPartitioner, Hadoop reads in the partition key as a string. The partition key is then hashed (as string) and hadoop uses this hashkey for sorting which is different from sorting by string.In order to preserve partition key ordering, we need to have inverse hashCode function  that takes as input the desired partition index and total number of partitions, and returns the partition key.\n",
    "\n",
    "> __e)__ The inverse hashcode needs to be done while defining custom partitions in mapper "
   ]
  },
  {
   "cell_type": "markdown",
   "metadata": {},
   "source": [
    "# About the Data\n",
    "For the main task in this portion of the homework you will train a classifier to determine whether an email represents spam or not. You will train your Naive Bayes model on a 100 record subset of the Enron Spam/Ham corpus available in the HW2 data directory (__`HW2/data/enronemail_1h.txt`__).\n",
    "\n",
    "__Source:__   \n",
    "The original data included about 93,000 emails which were made public after the company's collapse. There have been a number raw and preprocessed versions of this corpus (including those available [here](http://www.aueb.gr/users/ion/data/enron-spam/index.html) and [here](http://www.aueb.gr/users/ion/publications.html)). The subset we will use is limited to emails from 6 Enron employees and a number of spam sources. It is part of [this data set](http://www.aueb.gr/users/ion/data/enron-spam/) which was created by researchers working on personlized Bayesian spam filters. Their original publication is [available here](http://www.aueb.gr/users/ion/docs/ceas2006_paper.pdf). __`IMPORTANT!`__ _For this homework please limit your analysis to the 100 email subset which we provide. No need to download or run your analysis on any of the original datasets, those links are merely provided as context._\n",
    "\n",
    "__Preprocessing:__  \n",
    "For their work, Metsis et al. (the authors) appeared to have pre-processed the data, not only collapsing all text to lower-case, but additionally separating \"words\" by spaces, where \"words\" unfortunately include punctuation. As a concrete example, the sentence:  \n",
    ">  `Hey Jon, I hope you don't get lost out there this weekend!`  \n",
    "\n",
    "... would have been reduced by Metsis et al. to the form:  \n",
    "> `hey jon , i hope you don ' t get lost out there this weekend !` \n",
    "\n",
    "... so we have reverted the data back toward its original state, removing spaces so that our sample sentence would now look like:\n",
    "> `hey jon, i hope you don't get lost out there this weekend!`  \n",
    "\n",
    "Thus we have at least preserved contractions and other higher-order lexical forms. However, one must be aware that this reversion is not complete, and that some object (specifically web sites) will be ill-formatted, and that all text is still lower-cased.\n",
    "\n",
    "\n",
    "__Format:__   \n",
    "All messages are collated to a tab-delimited format:  \n",
    "\n",
    ">    `ID \\t SPAM \\t SUBJECT \\t CONTENT \\n`  \n",
    "\n",
    "where:  \n",
    ">    `ID = string; unique message identifier`  \n",
    "    `SPAM = binary; with 1 indicating a spam message`  \n",
    "    `SUBJECT = string; title of the message`  \n",
    "    `CONTENT = string; content of the message`   \n",
    "    \n",
    "Note that either of `SUBJECT` or `CONTENT` may be \"NA\", and that all tab (\\t) and newline (\\n) characters have been removed from both of the `SUBJECT` and `CONTENT` columns.  "
   ]
  },
  {
   "cell_type": "code",
   "execution_count": 6,
   "metadata": {},
   "outputs": [
    {
     "name": "stdout",
     "output_type": "stream",
     "text": [
      "0001.1999-12-10.farmer\t0\t christmas tree farm pictures\tNA\n",
      "0001.1999-12-10.kaminski\t0\t re: rankings\t thank you.\n",
      "0001.2000-01-17.beck\t0\t leadership development pilot\t\" sally:  what timing, ask and you shall receiv\n",
      "0001.2000-06-06.lokay\t0\t\" key dates and impact of upcoming sap implementation over the next few week\n",
      "0001.2001-02-07.kitchen\t0\t key hr issues going forward\t a) year end reviews-report needs generating \n"
     ]
    }
   ],
   "source": [
    "# take a look at the first 100 characters of the first 5 records (RUN THIS CELL AS IS)\n",
    "!head -n 5 /media/notebooks/Assignments/HW2/{ENRON} | cut -c-100"
   ]
  },
  {
   "cell_type": "code",
   "execution_count": 7,
   "metadata": {},
   "outputs": [
    {
     "name": "stdout",
     "output_type": "stream",
     "text": [
      "100 /media/notebooks/Assignments/HW2/data/enronemail_1h.txt\n"
     ]
    }
   ],
   "source": [
    "# see how many messages/lines are in the file \n",
    "#(this number may be off by 1 if the last line doesn't end with a newline)\n",
    "!wc -l /media/notebooks/Assignments/HW2/{ENRON}"
   ]
  },
  {
   "cell_type": "code",
   "execution_count": 8,
   "metadata": {},
   "outputs": [
    {
     "name": "stdout",
     "output_type": "stream",
     "text": [
      "mkdir: `/user/root/HW2': File exists\n"
     ]
    }
   ],
   "source": [
    "# make the HDFS directory if it doesn't already exist\n",
    "!hdfs dfs -mkdir {HDFS_DIR}"
   ]
  },
  {
   "cell_type": "code",
   "execution_count": 9,
   "metadata": {},
   "outputs": [
    {
     "name": "stdout",
     "output_type": "stream",
     "text": [
      "copyFromLocal: `/user/root/HW2/enron.txt': File exists\n"
     ]
    }
   ],
   "source": [
    "# load the data into HDFS (RUN THIS CELL AS IS)\n",
    "!hdfs dfs -copyFromLocal /media/notebooks/Assignments/HW2/{ENRON} {HDFS_DIR}/enron.txt"
   ]
  },
  {
   "cell_type": "markdown",
   "metadata": {},
   "source": [
    "# Question 4:  Enron Ham/Spam EDA.\n",
    "Before building our classifier, lets get aquainted with our data. In particular, we're interested in which words occur more in spam emails than in legitimate (\"ham\") emails. In this question you'll implement two Hadoop MapReduce jobs to count and sort word occurrences by document class. You'll also learn about two new Hadoop streaming parameters that will allow you to control how the records output from your mappers are partitioned for reducing on separate nodes. \n",
    "\n",
    "__`IMPORTANT NOTE:`__ For this question and all subsequent items, you should include both the subject and the body of the email in your analysis (i.e. concatetate them to get the 'text' of the document).\n",
    "\n",
    "### Q4 Tasks:\n",
    "* __a) code:__ Complete the missing components of the code in __`EnronEDA/mapper.py`__ and __`EnronEDA/reducer.py`__ to create a Hadoop  MapReduce job that counts how many times each word in the corpus occurs in an email for each class. Pay close attention to the data format specified in the docstrings of these scripts _-- there are a number of ways to accomplish this task, we've chosen this format to help illustrate a technique in `part e`_. Run the provided unit tests to confirm that your code works as expected, then run the provided Hadoop Streaming command to apply your analysis to the Enron data.\n",
    "\n",
    "\n",
    "* __b) code + short response:__ How many times does the word \"__assistance__\" occur in each class? (`HINT:` Use a `grep` command to read from the results file you generated in '`a`' and then report the answer in the space provided.)\n",
    "\n",
    "\n",
    "* __c) short response:__ Would it have been possible to add some sorting parameters to the Hadoop streaming command that would cause our `part a` results to be sorted by count? Explain why or why not. (`HINT:` This question demands an understanding of the sequence of the phases of MapReduce.)\n",
    "\n",
    "\n",
    "* __d) code + short response:__ Write a second Hadoop MapReduce job to sort the output of `part a` first by class and then by count. Run your job and save the results to a local file. Then describe in words how you would go about printing the top 10 words in each class given this sorted output. (`HINT 1:` _remember that you can simply pass the `part a` output directory to the input field of this job; `HINT 2:` since this task is just reodering the records from `part a` we don't need to write a mapper or reducer, just use `/bin/cat` for both_)\n",
    "\n",
    "\n",
    "* __e) code:__ A more efficient alternative to '`grep`-ing' for the top 10 words in each class would be to use the Hadoop framework to separate records from each class into its own partition so that we can just read the top lines in each. Rewrite your job from ` part d` to specify 2 reduce tasks and to tell Hadoop to partition based on the second field (which indicates spam/ham in our data). Your code should maintain the secondary sort -- that is each partition should list words from most to least frequent."
   ]
  },
  {
   "cell_type": "markdown",
   "metadata": {},
   "source": [
    "### Q4 Student Answers:\n",
    "> __b)__ assistance occurs 8 times in spam and 2 times in ham class.\n",
    "\n",
    "\n",
    "> __c)__ No, because we aggregate the counts in reducer and key comparator sorts mapper result  which is before reducer, so at that time we dont have the aggregated word counts.\n",
    "\n",
    "> __d)__ we can either of below commands which will print top 10 words from the sorted output.\n",
    "        !head -n 10 EnronEDA/sortresults.txt\n",
    "        !grep -m 10 \"\" EnronEDA/sortresults.txt"
   ]
  },
  {
   "cell_type": "code",
   "execution_count": 10,
   "metadata": {},
   "outputs": [],
   "source": [
    "# part a - do your work in the provided scripts then RUN THIS CELL AS IS\n",
    "!chmod a+x EnronEDA/mapper.py\n",
    "!chmod a+x EnronEDA/reducer.py"
   ]
  },
  {
   "cell_type": "code",
   "execution_count": 11,
   "metadata": {},
   "outputs": [
    {
     "name": "stdout",
     "output_type": "stream",
     "text": [
      "title\t1\t1\n",
      "body\t1\t1\n",
      "title\t0\t1\n",
      "body\t0\t1\n"
     ]
    }
   ],
   "source": [
    "# part a - unit test EnronEDA/mapper.py (RUN THIS CELL AS IS)\n",
    "!echo -e \"d1\t1\ttitle\tbody\\nd2\t0\ttitle\tbody\" | EnronEDA/mapper.py"
   ]
  },
  {
   "cell_type": "code",
   "execution_count": 12,
   "metadata": {},
   "outputs": [
    {
     "name": "stdout",
     "output_type": "stream",
     "text": [
      "one\t1\t1\n",
      "one\t0\t2\n",
      "two\t1\t0\n",
      "two\t0\t1\n"
     ]
    }
   ],
   "source": [
    "# part a - unit test EnronEDA/reducer.py (RUN THIS CELL AS IS)\n",
    "!echo -e \"one\t1\t1\\none\t0\t1\\none\t0\t1\\ntwo\t0\t1\" | EnronEDA/reducer.py"
   ]
  },
  {
   "cell_type": "code",
   "execution_count": 13,
   "metadata": {},
   "outputs": [
    {
     "name": "stdout",
     "output_type": "stream",
     "text": [
      "Deleted /user/root/HW2/eda-output\n"
     ]
    }
   ],
   "source": [
    "# part a - clear output directory in HDFS (RUN THIS CELL AS IS)\n",
    "!hdfs dfs -rm -r {HDFS_DIR}/eda-output"
   ]
  },
  {
   "cell_type": "code",
   "execution_count": 14,
   "metadata": {},
   "outputs": [
    {
     "name": "stdout",
     "output_type": "stream",
     "text": [
      "packageJobJar: [] [/usr/lib/hadoop-mapreduce/hadoop-streaming-2.6.0-cdh5.16.2.jar] /tmp/streamjob3753571951404809239.jar tmpDir=null\n",
      "21/06/08 00:56:27 INFO client.RMProxy: Connecting to ResourceManager at /0.0.0.0:8032\n",
      "21/06/08 00:56:27 INFO client.RMProxy: Connecting to ResourceManager at /0.0.0.0:8032\n",
      "21/06/08 00:56:28 INFO mapred.FileInputFormat: Total input paths to process : 1\n",
      "21/06/08 00:56:28 INFO mapreduce.JobSubmitter: number of splits:2\n",
      "21/06/08 00:56:28 INFO mapreduce.JobSubmitter: Submitting tokens for job: job_1623070339035_0025\n",
      "21/06/08 00:56:28 INFO impl.YarnClientImpl: Submitted application application_1623070339035_0025\n",
      "21/06/08 00:56:28 INFO mapreduce.Job: The url to track the job: http://docker.w261:8088/proxy/application_1623070339035_0025/\n",
      "21/06/08 00:56:28 INFO mapreduce.Job: Running job: job_1623070339035_0025\n",
      "21/06/08 00:56:35 INFO mapreduce.Job: Job job_1623070339035_0025 running in uber mode : false\n",
      "21/06/08 00:56:35 INFO mapreduce.Job:  map 0% reduce 0%\n",
      "21/06/08 00:56:41 INFO mapreduce.Job:  map 50% reduce 0%\n",
      "21/06/08 00:56:42 INFO mapreduce.Job:  map 100% reduce 0%\n",
      "21/06/08 00:56:48 INFO mapreduce.Job:  map 100% reduce 50%\n",
      "21/06/08 00:56:50 INFO mapreduce.Job:  map 100% reduce 100%\n",
      "21/06/08 00:56:50 INFO mapreduce.Job: Job job_1623070339035_0025 completed successfully\n",
      "21/06/08 00:56:50 INFO mapreduce.Job: Counters: 49\n",
      "\tFile System Counters\n",
      "\t\tFILE: Number of bytes read=369010\n",
      "\t\tFILE: Number of bytes written=1335626\n",
      "\t\tFILE: Number of read operations=0\n",
      "\t\tFILE: Number of large read operations=0\n",
      "\t\tFILE: Number of write operations=0\n",
      "\t\tHDFS: Number of bytes read=217061\n",
      "\t\tHDFS: Number of bytes written=119173\n",
      "\t\tHDFS: Number of read operations=12\n",
      "\t\tHDFS: Number of large read operations=0\n",
      "\t\tHDFS: Number of write operations=4\n",
      "\tJob Counters \n",
      "\t\tLaunched map tasks=2\n",
      "\t\tLaunched reduce tasks=2\n",
      "\t\tData-local map tasks=2\n",
      "\t\tTotal time spent by all maps in occupied slots (ms)=8676\n",
      "\t\tTotal time spent by all reduces in occupied slots (ms)=8934\n",
      "\t\tTotal time spent by all map tasks (ms)=8676\n",
      "\t\tTotal time spent by all reduce tasks (ms)=8934\n",
      "\t\tTotal vcore-milliseconds taken by all map tasks=8676\n",
      "\t\tTotal vcore-milliseconds taken by all reduce tasks=8934\n",
      "\t\tTotal megabyte-milliseconds taken by all map tasks=8884224\n",
      "\t\tTotal megabyte-milliseconds taken by all reduce tasks=9148416\n",
      "\tMap-Reduce Framework\n",
      "\t\tMap input records=100\n",
      "\t\tMap output records=31490\n",
      "\t\tMap output bytes=306018\n",
      "\t\tMap output materialized bytes=369022\n",
      "\t\tInput split bytes=214\n",
      "\t\tCombine input records=0\n",
      "\t\tCombine output records=0\n",
      "\t\tReduce input groups=5065\n",
      "\t\tReduce shuffle bytes=369022\n",
      "\t\tReduce input records=31490\n",
      "\t\tReduce output records=10130\n",
      "\t\tSpilled Records=62980\n",
      "\t\tShuffled Maps =4\n",
      "\t\tFailed Shuffles=0\n",
      "\t\tMerged Map outputs=4\n",
      "\t\tGC time elapsed (ms)=179\n",
      "\t\tCPU time spent (ms)=6970\n",
      "\t\tPhysical memory (bytes) snapshot=1185775616\n",
      "\t\tVirtual memory (bytes) snapshot=5518262272\n",
      "\t\tTotal committed heap usage (bytes)=1272971264\n",
      "\tShuffle Errors\n",
      "\t\tBAD_ID=0\n",
      "\t\tCONNECTION=0\n",
      "\t\tIO_ERROR=0\n",
      "\t\tWRONG_LENGTH=0\n",
      "\t\tWRONG_MAP=0\n",
      "\t\tWRONG_REDUCE=0\n",
      "\tFile Input Format Counters \n",
      "\t\tBytes Read=216847\n",
      "\tFile Output Format Counters \n",
      "\t\tBytes Written=119173\n",
      "21/06/08 00:56:50 INFO streaming.StreamJob: Output directory: /user/root/HW2//eda-output\n"
     ]
    }
   ],
   "source": [
    "# part a - Hadoop streaming job (RUN THIS CELL AS IS)\n",
    "!hadoop jar {JAR_FILE} \\\n",
    "  -files EnronEDA/reducer.py,EnronEDA/mapper.py \\\n",
    "  -mapper mapper.py \\\n",
    "  -reducer reducer.py \\\n",
    "  -input {HDFS_DIR}/enron.txt \\\n",
    "  -output {HDFS_DIR}/eda-output \\\n",
    "  -numReduceTasks 2 \\\n",
    "  -cmdenv PATH={PATH}"
   ]
  },
  {
   "cell_type": "code",
   "execution_count": 15,
   "metadata": {},
   "outputs": [],
   "source": [
    "# part a - retrieve results from HDFS & copy them into a local file (RUN THIS CELL AS IS)\n",
    "!hdfs dfs -cat {HDFS_DIR}/eda-output/part-0000* > EnronEDA/results.txt"
   ]
  },
  {
   "cell_type": "code",
   "execution_count": 16,
   "metadata": {},
   "outputs": [
    {
     "name": "stdout",
     "output_type": "stream",
     "text": [
      "assistance\t1\t8\n",
      "assistance\t0\t2\n"
     ]
    }
   ],
   "source": [
    "# part b - write your grep command here\n",
    "!grep \"assistance\" EnronEDA/results.txt"
   ]
  },
  {
   "cell_type": "code",
   "execution_count": 17,
   "metadata": {},
   "outputs": [
    {
     "name": "stdout",
     "output_type": "stream",
     "text": [
      "Deleted /user/root/HW2/eda-sort-output\n"
     ]
    }
   ],
   "source": [
    "# part d - clear the output directory in HDFS (RUN THIS CELL AS IS)\n",
    "!hdfs dfs -rm -r {HDFS_DIR}/eda-sort-output"
   ]
  },
  {
   "cell_type": "code",
   "execution_count": 18,
   "metadata": {},
   "outputs": [
    {
     "name": "stdout",
     "output_type": "stream",
     "text": [
      "packageJobJar: [] [/usr/lib/hadoop-mapreduce/hadoop-streaming-2.6.0-cdh5.16.2.jar] /tmp/streamjob4935332561609422204.jar tmpDir=null\n",
      "21/06/08 00:56:59 INFO client.RMProxy: Connecting to ResourceManager at /0.0.0.0:8032\n",
      "21/06/08 00:56:59 INFO client.RMProxy: Connecting to ResourceManager at /0.0.0.0:8032\n",
      "21/06/08 00:57:00 INFO mapred.FileInputFormat: Total input paths to process : 2\n",
      "21/06/08 00:57:00 INFO mapreduce.JobSubmitter: number of splits:2\n",
      "21/06/08 00:57:00 INFO mapreduce.JobSubmitter: Submitting tokens for job: job_1623070339035_0026\n",
      "21/06/08 00:57:00 INFO impl.YarnClientImpl: Submitted application application_1623070339035_0026\n",
      "21/06/08 00:57:00 INFO mapreduce.Job: The url to track the job: http://docker.w261:8088/proxy/application_1623070339035_0026/\n",
      "21/06/08 00:57:00 INFO mapreduce.Job: Running job: job_1623070339035_0026\n",
      "21/06/08 00:57:07 INFO mapreduce.Job: Job job_1623070339035_0026 running in uber mode : false\n",
      "21/06/08 00:57:07 INFO mapreduce.Job:  map 0% reduce 0%\n",
      "21/06/08 00:57:14 INFO mapreduce.Job:  map 50% reduce 0%\n",
      "21/06/08 00:57:15 INFO mapreduce.Job:  map 100% reduce 0%\n",
      "21/06/08 00:57:20 INFO mapreduce.Job:  map 100% reduce 100%\n",
      "21/06/08 00:57:20 INFO mapreduce.Job: Job job_1623070339035_0026 completed successfully\n",
      "21/06/08 00:57:20 INFO mapreduce.Job: Counters: 49\n",
      "\tFile System Counters\n",
      "\t\tFILE: Number of bytes read=149569\n",
      "\t\tFILE: Number of bytes written=744373\n",
      "\t\tFILE: Number of read operations=0\n",
      "\t\tFILE: Number of large read operations=0\n",
      "\t\tFILE: Number of write operations=0\n",
      "\t\tHDFS: Number of bytes read=119411\n",
      "\t\tHDFS: Number of bytes written=129303\n",
      "\t\tHDFS: Number of read operations=9\n",
      "\t\tHDFS: Number of large read operations=0\n",
      "\t\tHDFS: Number of write operations=2\n",
      "\tJob Counters \n",
      "\t\tLaunched map tasks=2\n",
      "\t\tLaunched reduce tasks=1\n",
      "\t\tData-local map tasks=2\n",
      "\t\tTotal time spent by all maps in occupied slots (ms)=8262\n",
      "\t\tTotal time spent by all reduces in occupied slots (ms)=3538\n",
      "\t\tTotal time spent by all map tasks (ms)=8262\n",
      "\t\tTotal time spent by all reduce tasks (ms)=3538\n",
      "\t\tTotal vcore-milliseconds taken by all map tasks=8262\n",
      "\t\tTotal vcore-milliseconds taken by all reduce tasks=3538\n",
      "\t\tTotal megabyte-milliseconds taken by all map tasks=8460288\n",
      "\t\tTotal megabyte-milliseconds taken by all reduce tasks=3622912\n",
      "\tMap-Reduce Framework\n",
      "\t\tMap input records=10130\n",
      "\t\tMap output records=10130\n",
      "\t\tMap output bytes=129303\n",
      "\t\tMap output materialized bytes=149575\n",
      "\t\tInput split bytes=238\n",
      "\t\tCombine input records=0\n",
      "\t\tCombine output records=0\n",
      "\t\tReduce input groups=10130\n",
      "\t\tReduce shuffle bytes=149575\n",
      "\t\tReduce input records=10130\n",
      "\t\tReduce output records=10130\n",
      "\t\tSpilled Records=20260\n",
      "\t\tShuffled Maps =2\n",
      "\t\tFailed Shuffles=0\n",
      "\t\tMerged Map outputs=2\n",
      "\t\tGC time elapsed (ms)=171\n",
      "\t\tCPU time spent (ms)=4650\n",
      "\t\tPhysical memory (bytes) snapshot=811016192\n",
      "\t\tVirtual memory (bytes) snapshot=4113514496\n",
      "\t\tTotal committed heap usage (bytes)=822607872\n",
      "\tShuffle Errors\n",
      "\t\tBAD_ID=0\n",
      "\t\tCONNECTION=0\n",
      "\t\tIO_ERROR=0\n",
      "\t\tWRONG_LENGTH=0\n",
      "\t\tWRONG_MAP=0\n",
      "\t\tWRONG_REDUCE=0\n",
      "\tFile Input Format Counters \n",
      "\t\tBytes Read=119173\n",
      "\tFile Output Format Counters \n",
      "\t\tBytes Written=129303\n",
      "21/06/08 00:57:20 INFO streaming.StreamJob: Output directory: /user/root/HW2//eda-sort-output\n"
     ]
    }
   ],
   "source": [
    "# part d - write your Hadoop streaming job here\n",
    "!hadoop jar {JAR_FILE} \\\n",
    "  -D stream.num.map.output.key.fields=3 \\\n",
    "  -D mapreduce.job.output.key.comparator.class=org.apache.hadoop.mapred.lib.KeyFieldBasedComparator \\\n",
    "  -D mapreduce.partition.keycomparator.options=\"-k2,2 -k3,3nr\" \\\n",
    "  -mapper /bin/cat \\\n",
    "  -reducer /bin/cat \\\n",
    "  -input {HDFS_DIR}/eda-output\\\n",
    "  -output {HDFS_DIR}/eda-sort-output \\\n",
    "  -cmdenv PATH={PATH} \n",
    "!hdfs dfs -cat {HDFS_DIR}/eda-sort-output/part-0000* > EnronEDA/sortresults.txt"
   ]
  },
  {
   "cell_type": "code",
   "execution_count": 19,
   "metadata": {},
   "outputs": [
    {
     "name": "stdout",
     "output_type": "stream",
     "text": [
      "Deleted /user/root/HW2/eda-sort-output\n"
     ]
    }
   ],
   "source": [
    "# part e - clear the output directory in HDFS (RUN THIS CELL AS IS)\n",
    "!hdfs dfs -rm -r {HDFS_DIR}/eda-sort-output"
   ]
  },
  {
   "cell_type": "code",
   "execution_count": 20,
   "metadata": {},
   "outputs": [
    {
     "name": "stdout",
     "output_type": "stream",
     "text": [
      "packageJobJar: [] [/usr/lib/hadoop-mapreduce/hadoop-streaming-2.6.0-cdh5.16.2.jar] /tmp/streamjob2128343481644461105.jar tmpDir=null\n",
      "21/06/08 00:57:28 INFO client.RMProxy: Connecting to ResourceManager at /0.0.0.0:8032\n",
      "21/06/08 00:57:28 INFO client.RMProxy: Connecting to ResourceManager at /0.0.0.0:8032\n",
      "21/06/08 00:57:29 INFO mapred.FileInputFormat: Total input paths to process : 2\n",
      "21/06/08 00:57:29 INFO mapreduce.JobSubmitter: number of splits:2\n",
      "21/06/08 00:57:29 INFO mapreduce.JobSubmitter: Submitting tokens for job: job_1623070339035_0027\n",
      "21/06/08 00:57:29 INFO impl.YarnClientImpl: Submitted application application_1623070339035_0027\n",
      "21/06/08 00:57:29 INFO mapreduce.Job: The url to track the job: http://docker.w261:8088/proxy/application_1623070339035_0027/\n",
      "21/06/08 00:57:29 INFO mapreduce.Job: Running job: job_1623070339035_0027\n",
      "21/06/08 00:57:36 INFO mapreduce.Job: Job job_1623070339035_0027 running in uber mode : false\n",
      "21/06/08 00:57:36 INFO mapreduce.Job:  map 0% reduce 0%\n",
      "21/06/08 00:57:42 INFO mapreduce.Job:  map 50% reduce 0%\n",
      "21/06/08 00:57:43 INFO mapreduce.Job:  map 100% reduce 0%\n",
      "21/06/08 00:57:49 INFO mapreduce.Job:  map 100% reduce 50%\n",
      "21/06/08 00:57:50 INFO mapreduce.Job:  map 100% reduce 100%\n",
      "21/06/08 00:57:51 INFO mapreduce.Job: Job job_1623070339035_0027 completed successfully\n",
      "21/06/08 00:57:51 INFO mapreduce.Job: Counters: 49\n",
      "\tFile System Counters\n",
      "\t\tFILE: Number of bytes read=149575\n",
      "\t\tFILE: Number of bytes written=894328\n",
      "\t\tFILE: Number of read operations=0\n",
      "\t\tFILE: Number of large read operations=0\n",
      "\t\tFILE: Number of write operations=0\n",
      "\t\tHDFS: Number of bytes read=119411\n",
      "\t\tHDFS: Number of bytes written=129303\n",
      "\t\tHDFS: Number of read operations=12\n",
      "\t\tHDFS: Number of large read operations=0\n",
      "\t\tHDFS: Number of write operations=4\n",
      "\tJob Counters \n",
      "\t\tLaunched map tasks=2\n",
      "\t\tLaunched reduce tasks=2\n",
      "\t\tData-local map tasks=2\n",
      "\t\tTotal time spent by all maps in occupied slots (ms)=8339\n",
      "\t\tTotal time spent by all reduces in occupied slots (ms)=8654\n",
      "\t\tTotal time spent by all map tasks (ms)=8339\n",
      "\t\tTotal time spent by all reduce tasks (ms)=8654\n",
      "\t\tTotal vcore-milliseconds taken by all map tasks=8339\n",
      "\t\tTotal vcore-milliseconds taken by all reduce tasks=8654\n",
      "\t\tTotal megabyte-milliseconds taken by all map tasks=8539136\n",
      "\t\tTotal megabyte-milliseconds taken by all reduce tasks=8861696\n",
      "\tMap-Reduce Framework\n",
      "\t\tMap input records=10130\n",
      "\t\tMap output records=10130\n",
      "\t\tMap output bytes=129303\n",
      "\t\tMap output materialized bytes=149587\n",
      "\t\tInput split bytes=238\n",
      "\t\tCombine input records=0\n",
      "\t\tCombine output records=0\n",
      "\t\tReduce input groups=10130\n",
      "\t\tReduce shuffle bytes=149587\n",
      "\t\tReduce input records=10130\n",
      "\t\tReduce output records=10130\n",
      "\t\tSpilled Records=20260\n",
      "\t\tShuffled Maps =4\n",
      "\t\tFailed Shuffles=0\n",
      "\t\tMerged Map outputs=4\n",
      "\t\tGC time elapsed (ms)=152\n",
      "\t\tCPU time spent (ms)=6460\n",
      "\t\tPhysical memory (bytes) snapshot=1183485952\n",
      "\t\tVirtual memory (bytes) snapshot=5497020416\n",
      "\t\tTotal committed heap usage (bytes)=1206910976\n",
      "\tShuffle Errors\n",
      "\t\tBAD_ID=0\n",
      "\t\tCONNECTION=0\n",
      "\t\tIO_ERROR=0\n",
      "\t\tWRONG_LENGTH=0\n",
      "\t\tWRONG_MAP=0\n",
      "\t\tWRONG_REDUCE=0\n",
      "\tFile Input Format Counters \n",
      "\t\tBytes Read=119173\n",
      "\tFile Output Format Counters \n",
      "\t\tBytes Written=129303\n",
      "21/06/08 00:57:51 INFO streaming.StreamJob: Output directory: /user/root/HW2//eda-sort-output\n"
     ]
    }
   ],
   "source": [
    "# part e - write your Hadoop streaming job here\n",
    "!hadoop jar {JAR_FILE} \\\n",
    "  -D stream.num.map.output.key.fields=3 \\\n",
    "  -D mapreduce.job.output.key.comparator.class=org.apache.hadoop.mapred.lib.KeyFieldBasedComparator \\\n",
    "  -D mapreduce.partition.keycomparator.options=\"-k2,2 -k3,3nr\" \\\n",
    "  -D mapreduce.partition.keypartitioner.options=\"-k2,2\" \\\n",
    "  -partitioner org.apache.hadoop.mapred.lib.KeyFieldBasedPartitioner \\\n",
    "  -mapper /bin/cat \\\n",
    "  -reducer /bin/cat \\\n",
    "  -input {HDFS_DIR}/eda-output\\\n",
    "  -output {HDFS_DIR}/eda-sort-output \\\n",
    "  -cmdenv PATH={PATH} \\\n",
    "  -numReduceTasks 2"
   ]
  },
  {
   "cell_type": "code",
   "execution_count": 21,
   "metadata": {},
   "outputs": [
    {
     "name": "stdout",
     "output_type": "stream",
     "text": [
      "\n",
      "===== part-00000=====\n",
      "\n",
      "the\t0\t549\t\n",
      "to\t0\t398\t\n",
      "ect\t0\t382\t\n",
      "and\t0\t278\t\n",
      "of\t0\t230\t\n",
      "hou\t0\t206\t\n",
      "a\t0\t196\t\n",
      "in\t0\t182\t\n",
      "for\t0\t170\t\n",
      "on\t0\t135\t\n",
      "cat: Unable to write to output stream.\n",
      "\n",
      "===== part-00001=====\n",
      "\n",
      "the\t1\t698\t\n",
      "to\t1\t566\t\n",
      "and\t1\t392\t\n",
      "your\t1\t357\t\n",
      "a\t1\t347\t\n",
      "you\t1\t345\t\n",
      "of\t1\t336\t\n",
      "in\t1\t236\t\n",
      "for\t1\t204\t\n",
      "com\t1\t153\t\n",
      "cat: Unable to write to output stream.\n"
     ]
    }
   ],
   "source": [
    "# part e - view the top 10 records from each partition (RUN THIS CELL AS IS)\n",
    "for idx in range(2):\n",
    "    print(f\"\\n===== part-0000{idx}=====\\n\")\n",
    "    !hdfs dfs -cat {HDFS_DIR}/eda-sort-output/part-0000{idx} | head"
   ]
  },
  {
   "cell_type": "markdown",
   "metadata": {},
   "source": [
    "__Expected output:__\n",
    "<table>\n",
    "<th>part-00000:</th>\n",
    "<th>part-00001:</th>\n",
    "<tr><td><pre>\n",
    "the\t0\t549\t\n",
    "to\t0\t398\t\n",
    "ect\t0\t382\t\n",
    "and\t0\t278\t\n",
    "of\t0\t230\t\n",
    "hou\t0\t206\t\n",
    "a\t0\t196\t\n",
    "in\t0\t182\t\n",
    "for\t0\t170\t\n",
    "on\t0\t135\n",
    "</pre></td>\n",
    "<td><pre>\n",
    "the\t1\t698\t\n",
    "to\t1\t566\t\n",
    "and\t1\t392\t\n",
    "your\t1\t357\t\n",
    "a\t1\t347\t\n",
    "you\t1\t345\t\n",
    "of\t1\t336\t\n",
    "in\t1\t236\t\n",
    "for\t1\t204\t\n",
    "com\t1\t153\n",
    "</pre></td></tr>\n",
    "</table>"
   ]
  },
  {
   "cell_type": "markdown",
   "metadata": {},
   "source": [
    "# Question 5: Counters and Combiners.\n",
    "Tuning the number of mappers & reducers is helpful to optimize very large distributed computations. Doing so successfully requires a thorough understanding of the data size at each stage of the job. As you learned in the week3 live session, counters are an invaluable resource for understanding this kind of detail. In this question, we will take the EDA performed in Question 4 as an opportunity to illustrate some related concepts.\n",
    "\n",
    "### Q5 Tasks:\n",
    "* __a) short response:__ Read the Hadoop output from your job in Question 4a to report how many records are emitted by the mappers and how many records are received be the reducers. In the context of word counting what does this number represent practically?\n",
    "\n",
    "* __b) code:__ Note that we wrote the reducer in question 4a such that the input and output record format is identical. This makes it easy to use the same reducer script as a combiner. In the space provided below, write the Hadoop Streaming command to re-run your job from question 4a with this combining added.\n",
    "\n",
    "* __c) short response__: Report the number of records emitted by your mappers in part b and the number of records received by your reducers. Compare your results here to what you saw in part a. Explain.\n",
    "\n",
    "* __d) short response__: Describe a scenario where using a combiner would _NOT_ improve the efficiency of the shuffle stage. Explain. [__`BONUS:`__ how does increasing the number of mappers affect the usefulness of a combiner?]"
   ]
  },
  {
   "cell_type": "markdown",
   "metadata": {},
   "source": [
    "### Q5 Student Answers:\n",
    "> __a)__ Map output records=31490\n",
    "\t\tReduce input records=31490\n",
    "        This number is the total number of words in the document.\n",
    "\n",
    "> __c)__ Map output records=31490\n",
    "\t\tCombine output records=13096\n",
    "\t\tReduce input records=13096\n",
    " Comparede to part a, the count of records being input to reducer has decreased . This is because here for each word, the combiner is aggregrating counts in each class. This reduces the mapper output and subsequently input to shuffle and reducer.\n",
    "\n",
    "> __d)__ If we have a data that has uniue key and values, combiners will not improve because the output from mapper is alreadty at aggregated level. If we increase the number of mappers, data chunks to each mapper will be lesser. This may lead to mappers mostly having unique keys. This will reduce the effect of combiners because most of the records may already be at aggregated level."
   ]
  },
  {
   "cell_type": "code",
   "execution_count": 22,
   "metadata": {},
   "outputs": [
    {
     "name": "stdout",
     "output_type": "stream",
     "text": [
      "Deleted /user/root/HW2/eda-output\n"
     ]
    }
   ],
   "source": [
    "# part b - clear output directory in HDFS (RUN THIS CELL AS IS)\n",
    "!hdfs dfs -rm -r {HDFS_DIR}/eda-output"
   ]
  },
  {
   "cell_type": "code",
   "execution_count": 23,
   "metadata": {},
   "outputs": [
    {
     "name": "stdout",
     "output_type": "stream",
     "text": [
      "packageJobJar: [] [/usr/lib/hadoop-mapreduce/hadoop-streaming-2.6.0-cdh5.16.2.jar] /tmp/streamjob7172405864879433172.jar tmpDir=null\n",
      "21/06/08 00:58:23 INFO client.RMProxy: Connecting to ResourceManager at /0.0.0.0:8032\n",
      "21/06/08 00:58:23 INFO client.RMProxy: Connecting to ResourceManager at /0.0.0.0:8032\n",
      "21/06/08 00:58:24 INFO mapred.FileInputFormat: Total input paths to process : 1\n",
      "21/06/08 00:58:24 INFO mapreduce.JobSubmitter: number of splits:2\n",
      "21/06/08 00:58:24 INFO mapreduce.JobSubmitter: Submitting tokens for job: job_1623070339035_0028\n",
      "21/06/08 00:58:24 INFO impl.YarnClientImpl: Submitted application application_1623070339035_0028\n",
      "21/06/08 00:58:24 INFO mapreduce.Job: The url to track the job: http://docker.w261:8088/proxy/application_1623070339035_0028/\n",
      "21/06/08 00:58:24 INFO mapreduce.Job: Running job: job_1623070339035_0028\n",
      "21/06/08 00:58:32 INFO mapreduce.Job: Job job_1623070339035_0028 running in uber mode : false\n",
      "21/06/08 00:58:32 INFO mapreduce.Job:  map 0% reduce 0%\n",
      "21/06/08 00:58:38 INFO mapreduce.Job:  map 50% reduce 0%\n",
      "21/06/08 00:58:39 INFO mapreduce.Job:  map 100% reduce 0%\n",
      "21/06/08 00:58:45 INFO mapreduce.Job:  map 100% reduce 50%\n",
      "21/06/08 00:58:46 INFO mapreduce.Job:  map 100% reduce 100%\n",
      "21/06/08 00:58:46 INFO mapreduce.Job: Job job_1623070339035_0028 completed successfully\n",
      "21/06/08 00:58:46 INFO mapreduce.Job: Counters: 49\n",
      "\tFile System Counters\n",
      "\t\tFILE: Number of bytes read=177959\n",
      "\t\tFILE: Number of bytes written=954952\n",
      "\t\tFILE: Number of read operations=0\n",
      "\t\tFILE: Number of large read operations=0\n",
      "\t\tFILE: Number of write operations=0\n",
      "\t\tHDFS: Number of bytes read=217061\n",
      "\t\tHDFS: Number of bytes written=119173\n",
      "\t\tHDFS: Number of read operations=12\n",
      "\t\tHDFS: Number of large read operations=0\n",
      "\t\tHDFS: Number of write operations=4\n",
      "\tJob Counters \n",
      "\t\tLaunched map tasks=2\n",
      "\t\tLaunched reduce tasks=2\n",
      "\t\tData-local map tasks=2\n",
      "\t\tTotal time spent by all maps in occupied slots (ms)=8936\n",
      "\t\tTotal time spent by all reduces in occupied slots (ms)=8567\n",
      "\t\tTotal time spent by all map tasks (ms)=8936\n",
      "\t\tTotal time spent by all reduce tasks (ms)=8567\n",
      "\t\tTotal vcore-milliseconds taken by all map tasks=8936\n",
      "\t\tTotal vcore-milliseconds taken by all reduce tasks=8567\n",
      "\t\tTotal megabyte-milliseconds taken by all map tasks=9150464\n",
      "\t\tTotal megabyte-milliseconds taken by all reduce tasks=8772608\n",
      "\tMap-Reduce Framework\n",
      "\t\tMap input records=100\n",
      "\t\tMap output records=31490\n",
      "\t\tMap output bytes=306018\n",
      "\t\tMap output materialized bytes=177971\n",
      "\t\tInput split bytes=214\n",
      "\t\tCombine input records=31490\n",
      "\t\tCombine output records=13096\n",
      "\t\tReduce input groups=5065\n",
      "\t\tReduce shuffle bytes=177971\n",
      "\t\tReduce input records=13096\n",
      "\t\tReduce output records=10130\n",
      "\t\tSpilled Records=26192\n",
      "\t\tShuffled Maps =4\n",
      "\t\tFailed Shuffles=0\n",
      "\t\tMerged Map outputs=4\n",
      "\t\tGC time elapsed (ms)=188\n",
      "\t\tCPU time spent (ms)=7560\n",
      "\t\tPhysical memory (bytes) snapshot=1218355200\n",
      "\t\tVirtual memory (bytes) snapshot=5499752448\n",
      "\t\tTotal committed heap usage (bytes)=1272971264\n",
      "\tShuffle Errors\n",
      "\t\tBAD_ID=0\n",
      "\t\tCONNECTION=0\n",
      "\t\tIO_ERROR=0\n",
      "\t\tWRONG_LENGTH=0\n",
      "\t\tWRONG_MAP=0\n",
      "\t\tWRONG_REDUCE=0\n",
      "\tFile Input Format Counters \n",
      "\t\tBytes Read=216847\n",
      "\tFile Output Format Counters \n",
      "\t\tBytes Written=119173\n",
      "21/06/08 00:58:46 INFO streaming.StreamJob: Output directory: /user/root/HW2//eda-output\n"
     ]
    }
   ],
   "source": [
    "# part b - write your Hadoop streaming job here\n",
    "!hadoop jar {JAR_FILE} \\\n",
    "  -files EnronEDA/reducer.py,EnronEDA/mapper.py \\\n",
    "  -mapper mapper.py \\\n",
    "  -combiner reducer.py\\\n",
    "  -reducer reducer.py \\\n",
    "  -input {HDFS_DIR}/enron.txt \\\n",
    "  -output {HDFS_DIR}/eda-output \\\n",
    "  -numReduceTasks 2 \\\n",
    "  -cmdenv PATH={PATH}"
   ]
  },
  {
   "cell_type": "markdown",
   "metadata": {},
   "source": [
    "# Question 6: Document Classification Task Overview.\n",
    "The week 2 assigned reading from Chapter 13 of _Introduction to Information Retrieval_ by Manning, Raghavan and Schutze provides a thorough introduction to the document classification task and the math behind Naive Bayes. In this question we'll use the example from Table 13.1 (reproduced below) to 'train' an unsmoothed Multinomial Naive Bayes model and classify a test document by hand.\n",
    "\n",
    "<table>\n",
    "<th>DocID</th>\n",
    "<th>Class</th>\n",
    "<th>Subject</th>\n",
    "<th>Body</th>\n",
    "<tr><td>Doc1</td><td>1</td><td></td><td>Chinese Beijing Chinese</td></tr>\n",
    "<tr><td>Doc2</td><td>1</td><td></td><td>Chinese Chinese Shanghai</td></tr>\n",
    "<tr><td>Doc3</td><td>1</td><td></td><td>Chinese Macao</td></tr>\n",
    "<tr><td>Doc4</td><td>0</td><td></td><td>Tokyo Japan Chinese</td></tr>\n",
    "</table>\n",
    "\n",
    "### Q6 Tasks:\n",
    "* __a) short response:__ Equation 13.3 in Manning, Raghavan and Shutze shows how a Multinomial Naive Bayes model classifies a document. It predicts the class, $c$, for which the estimated conditional probability of the class given the document's contents,  $\\hat{P}(c|d)$, is greatest. In this equation what two pieces of information are required to calculate  $\\hat{P}(c|d)$? Your answer should include both mathematical notatation and verbal explanation.\n",
    "\n",
    "\n",
    "* __b) short response:__ The Enron data includes two classes of documents: `spam` and `ham` (they're actually labeled `1` and `0`). In plain English, explain what  $\\hat{P}(c)$ and   $\\hat{P}(t_{k} | c)$ mean in the context of this data. How will we would estimate these values from a training corpus? How many passes over the data would we need to make to retrieve this information for all classes and all words?\n",
    "\n",
    "\n",
    "* __c) hand calculations:__ Above we've reproduced the document classification example from the textbook (we added an empty subject field to mimic the Enron data format). Remember that the classes in this \"Chinese Example\" are `1` (about China) and `0` (not about China). Calculate the class priors and the conditional probabilities for an __unsmoothed__ Multinomial Naive Bayes model trained on this data. Show the calculations that lead to your result using markdown and $\\LaTeX$ in the space provided or by embedding an image of your hand written work. [`NOTE:` _Your results should NOT match those in the text -- they are training a model with +1 smoothing you are training a model without smoothing_]\n",
    "\n",
    "\n",
    "* __d) hand calculations:__ Use the model you trained to classify the following test document: `Chinese Chinese Chinese Tokyo Japan`. Show the calculations that lead to your result using markdown and   $\\LaTeX$ in the space provided or by embedding an image of your hand written work.\n",
    "\n",
    "\n",
    "* __e) short response:__ Compare the classification you get from this unsmoothed model in `d`/`e` to the results in the textbook's \"Example 1\" which reflects a model with Laplace plus 1 smoothing. How does smoothing affect our inference?"
   ]
  },
  {
   "cell_type": "markdown",
   "metadata": {},
   "source": [
    "### Q6 Student Answers:\n",
    "> __a)__ The pieces we need to calculate  $\\hat{P}(c|d)$ are:\n",
    "         the  probablity of class $\\hat{P}(c)$  and  \n",
    "         the conditional probabality of each term $t_{k}$ of being in a class $\\hat{P}(t_{k} | c)$. \n",
    "\n",
    "> __b)__  $\\hat{P}(c)$  is the probablity of email being spam or ham. It is called class prior. \n",
    " $\\hat{P}(c=S)$ can be calculated as number of spam emails divided by total emails.\n",
    " $\\hat{P}(c=H)$ can be calculated as number of ham emails divided by total emails.\n",
    " $\\hat{P}(t_{k} | c)$  is  number of times a term is occurs in the class / total number of words in the class.It is also called likelihood\n",
    "We can estimate class prior from training corpus by counting total number of documents for each class and divide by total number of documents. Likelihood for each term can be calculated by getting total number of times a term is occurs in each class and divide it by total number of words in each class \n",
    "We need 2 passes if we want to calculate  $\\hat{P}(t_{k} | c)$ with +1 smoothing along with $\\hat{P}(c)$  and 1 pass otherwise.\n",
    "\n",
    "> __c)__ Class priors can be calculated as below:\n",
    "$$\\hat{P}(c) = \\frac{N_c}{N}$$\n",
    "for Chinese class:\n",
    "$$\\hat{P}(c=1) = \\frac{N_1}{N}$$\n",
    "$$= \\frac{3}{4}$$\n",
    "$$= 0.75$$\n",
    "for Non Chinese class:\n",
    "$$\\hat{P}(c=0) = \\frac{N_0}{N}$$\n",
    "$$= \\frac{1}{4}$$\n",
    "$$= 0.25$$\n",
    "\n",
    "for likelihoods of each word for chinese class:\n",
    "\n",
    "$$\\hat{P}(t_{k} | c) = \\frac{T_ct}{\\sum_{t ' \\epsilon V}{T_ct' }}$$ \n",
    "\n",
    "for word 'chinese' in class 'chinese':\n",
    "$$\\hat{P}(t = chinese | c= chinese)$$\n",
    "$$= \\frac{5}{8}$$\n",
    "$$= 0.625$$\n",
    "for word 'chinese' in class 'non-chinese':\n",
    "$$\\hat{P}(t = chinese | c= non-chinese)$$\n",
    "$$= \\frac{1}{3}$$\n",
    "$$= 0.333$$\n",
    "\n",
    "for word 'beijing' in class 'chinese':\n",
    "$$\\hat{P}(t = beijing | c= chinese)$$\n",
    "$$= \\frac{1}{8}$$\n",
    "$$= 0.125$$\n",
    "for word 'beijing' in class 'non-chinese':\n",
    "$$\\hat{P}(t = beijing | c= non-chinese)$$\n",
    "$$= \\frac{0}{3}$$\n",
    "$$= 0$$\n",
    "\n",
    "for word 'Shanghai' in class 'chinese':\n",
    "$$\\hat{P}(t = Shanghai | c= chinese)$$\n",
    "$$= \\frac{1}{8}$$\n",
    "$$= 0.125$$\n",
    "for word 'Shanghai' in class 'non-chinese':\n",
    "$$\\hat{P}(t = Shanghai | c= non-chinese)$$\n",
    "$$= \\frac{0}{3}$$\n",
    "$$= 0$$\n",
    "\n",
    "\n",
    "for word 'Macao' in class 'chinese':\n",
    "$$\\hat{P}(t = Macao | c= chinese)$$\n",
    "$$= \\frac{1}{8}$$\n",
    "$$= 0.125$$\n",
    "for word 'Macao' in class 'non-chinese':\n",
    "$$\\hat{P}(t = Macao | c= non-chinese)$$\n",
    "$$= \\frac{0}{3}$$\n",
    "$$= 0$$\n",
    "\n",
    "for word 'tokyo' in class 'chinese':\n",
    "$$\\hat{P}(t = tokyo | c= chinese)$$\n",
    "$$= \\frac{0}{8}$$\n",
    "$$= 0$$\n",
    "for word 'tokyo' in class 'non-chinese':\n",
    "$$\\hat{P}(t = tokyo | c= non-chinese)$$\n",
    "$$= \\frac{1}{3}$$\n",
    "$$= 0.333$$\n",
    "\n",
    "for word 'japan' in class 'chinese':\n",
    "$$\\hat{P}(t = japan | c= chinese)$$\n",
    "$$= \\frac{0}{8}$$\n",
    "$$= 0$$\n",
    "for word 'japan' in class 'non-chinese':\n",
    "$$\\hat{P}(t = japan | c= non-chinese)$$\n",
    "$$= \\frac{1}{3}$$\n",
    "$$= 0.333$$\n",
    "\n",
    "\n",
    "\n",
    "> __d)__ Class priorsfor Chinese class $\\hat{P}(c=chinese)$:\n",
    "$$0.75$$\n",
    "and for Non Chinese class:\n",
    "$$0.25$$\n",
    "\n",
    "from above calculations:\n",
    " $$\\hat{P}(c= `Chinese'|d=`Chinese Chinese Chinese Tokyo Japan` )$$\n",
    " $$= \\hat{P}(c=`Chinese')*\\hat{P}(t = chinese | c= chinese)*\\hat{P}(t = chinese | c= chinese)*\\hat{P}(t = chinese | c= chinese)*\\hat{P}(t = tokyo | c= chinese)*\\hat{P}(t = japan | c= chinese)$$\n",
    " $$= 0.75 * 0.625* 0.625* 0.625* 0* 0$$\n",
    " $$=0$$\n",
    " \n",
    " $$\\hat{P}(c= `non-Chinese'|d=`Chinese Chinese Chinese Tokyo Japan` )$$\n",
    " $$= \\hat{P}(c=`non-Chinese')*\\hat{P}(t = chinese | c= non-chinese)*\\hat{P}(t = chinese | c= non-chinese)*\\hat{P}(t = chinese | c= non-chinese)*\\hat{P}(t = tokyo | c= non-chinese)*\\hat{P}(t = tokyo | c= non-chinese)$$\n",
    " $$= 0.25* 0.333 * 0.333* 0.333 * 0.333* 0.333$$\n",
    " $$=0.000978$$\n",
    "\n",
    "since $\\hat{P}(c= `Chinese'|d) <\\hat{P}(c= `non-Chinese'|d)$, the class of the document is non chinese\n",
    "\n",
    "> __e)__ for document  `Chinese Chinese Chinese Tokyo Japan`, laplace smoothing will assign small probablity to tokyo and japan, hence the $\\hat{P}(c= `Chinese'|d)$ is not zero and is greater than $\\hat{P}(c= `non-Chinese'|d)$. So now we are able to accurately classify.\n"
   ]
  },
  {
   "cell_type": "code",
   "execution_count": 24,
   "metadata": {},
   "outputs": [],
   "source": [
    "# part d/e - if you didn't write out your calcuations above, embed a picture of them here:\n",
    "#from IPython.display import Image\n",
    "#Image(filename=\"path-to-hand-calulations-image.png\")"
   ]
  },
  {
   "cell_type": "markdown",
   "metadata": {},
   "source": [
    "# Question 7: Naive Bayes Inference.\n",
    "In the next two questions you'll write code to parallelize the Naive Bayes calculations that you performed above. We'll do this in two phases: one MapReduce job to perform training and a second MapReduce to perform inference. While in practice we'd need to train a model before we can use it to classify documents, for learning purposes we're going to develop our code in the opposite order. By first focusing on the pieces of information/format we need to perform the classification (inference) task you should find it easier to develop a solid implementation for training phase when you get to question 8 below. In both of these questions we'll continue to use the Chinese example corpus from the textbook to help us test our MapReduce code as we develop it. Below we've reproduced the corpus, test set and model in text format that matches the Enron data.\n",
    "\n",
    "### Q7 Tasks:\n",
    "* __a) short response:__ run the provided cells to create the example files and load them in to HDFS. Then take a closer look at __`NBmodel.txt`__. This text file represents a Naive Bayes model trained (with Laplace +1 smoothing) on the example corpus. What are the 'keys' and 'values' in this file? Which record means something slightly different than the rest? The value field of each record includes two numbers which will be helpful for debugging but which we don't actually need to perform inference -- what are they? [`HINT`: _This file represents the model from Example 13.1 in the textbook, if you're having trouble getting oriented try comparing our file to the numbers in that example._]\n",
    "\n",
    "\n",
    "* __b) short response:__ When performing Naive Bayes in practice instead of multiplying the probabilities (as in equation 13.3) we add their logs (as in equation 13.4). Why do we choose to work with log probabilities? If we had an unsmoothed model, what potential error could arise from this transformation?\n",
    "\n",
    "\n",
    "* __c) short response:__ Documents 6 and 8 in the test set include a word that did not appear in the training corpus (and as a result does not appear in the model). What should we do at inference time when we need a class conditional probability for this word?\n",
    "\n",
    "\n",
    "* __d) short response:__ The goal of our MapReduce job is to stream over the test set and classify each document by peforming the calculation from equation 13.4. To do this we'll load the model file (which contains the probabilities for equation 13.4) into memory on the nodes where we do our mapping. This is called an in-memory join. Does loading a model 'state' like this depart from the functional programming principles? Explain why or why not. From a scability perspective when would this kind of memory use be justified? when would it be unwise?\n",
    "\n",
    "\n",
    "* __e) code:__ Complete the code in __`NaiveBayes/classify_mapper.py`__. Read the docstring carefully to understand how this script should work and the format it should return. Run the provided unit tests to confirm that your script works as expected then write a Hadoop streaming job to classify the Chinese example test set. [`HINT 1:` _you shouldn't need a reducer for this one._ `HINT 2:` _Don't forget to add the model file to the_ `-files` _parameter in your Hadoop streaming job so that it gets shipped to the mapper nodes where it will be accessed by your script._]\n",
    "\n",
    "\n",
    "* __f) short response:__ In our test example and in the Enron data set we have fairly short documents. Since these fit fine in memory on a mapper node we didn't need a reducer and could just do all of our calculations in the mapper. However with much longer documents (eg. books) we might want a higher level of parallelization -- for example we might want to process parts of a document on different nodes. In this hypothetical scenario how would our algorithm design change? What could the mappers still do? What key-value structure would they emit? What would the reducers have to do as a last step?"
   ]
  },
  {
   "cell_type": "markdown",
   "metadata": {},
   "source": [
    "### Q7 Student Answers:\n",
    "> __a)__ The key is word and the values are spam count, ham count, likelihood of each term being in spam class,likelihood of each term being in ham class \n",
    " The record which is different is the key Classpriors. the first 2 values of class prior key are the count of words in spam and ham. These values will be helpful in debugging.\n",
    "\n",
    "> __b)__ In Naive Bayes, a problem arises when the size of the vocabulary gets very big.Since $\\hat{P}(t_{k} | c)$ is between 0 and 1,  when we start multiplying them together for each word, the overall product starts approaching zero which often cannot be represented in a double or long double. This issue caused computational issue in almost every language which uses a standard floating-point data type with a fixed number of bits . The calculated probablity will eventuallyrun out of precision with extremely tiny numbers.Work-around for this situation is to represent probabilities as log probabilities instead. This is the problem of underflow. For unsmoothened model, for new or unseen word, the probablity is going to be 0. Log transformation of 0 will lead to error.\n",
    "\n",
    "> __c)__ We can ignore it, or add this word to both classes and then take log.\n",
    "\n",
    "> __d)__ Technically, it is a slight departure from statelessness, however,since we have loaded it on every node and every node has its own copy, the nodes can still continue to work in silos and without communicating to each other. In other words, this is okay since there is no issue of race conditions.From scalability perpective, it is okay as long as such files are small in size since keeping them in memory is going to have fast access. But when the files become large, it is going to start takling up resources and may have to be spilled to disk, which are slower to access. It will be unwise to keep them in memory in such case.\n",
    "\n",
    "> __e)__ Complete the coding portion of this question before answering 'f'.\n",
    "\n",
    "> __f)__ In case when one document may not fit in one mapper, our algorithm design should produce partial probablities for the documents from each mapper. we will need to have reducer for each document to gather and reduce these partial probalities to total probabality of document. mMppers can still calculate partial probabalities. The key will be doc id but one doc id key can be on multiple mappers.The values will be true class, partial logspam and partial logham. Reducers will have to aggregate the partial log probablities , calculate pred class and emit it.\n"
   ]
  },
  {
   "cell_type": "markdown",
   "metadata": {},
   "source": [
    "Run these cells to create the example corpus and model."
   ]
  },
  {
   "cell_type": "code",
   "execution_count": 25,
   "metadata": {},
   "outputs": [
    {
     "name": "stdout",
     "output_type": "stream",
     "text": [
      "Overwriting NaiveBayes/chineseTrain.txt\n"
     ]
    }
   ],
   "source": [
    "%%writefile NaiveBayes/chineseTrain.txt\n",
    "D1\t1\t\tChinese Beijing Chinese\n",
    "D2\t1\t\tChinese Chinese Shanghai\n",
    "D3\t1\t\tChinese Macao\n",
    "D4\t0\t\tTokyo Japan Chinese"
   ]
  },
  {
   "cell_type": "code",
   "execution_count": 26,
   "metadata": {},
   "outputs": [
    {
     "name": "stdout",
     "output_type": "stream",
     "text": [
      "Overwriting NaiveBayes/chineseTest.txt\n"
     ]
    }
   ],
   "source": [
    "%%writefile NaiveBayes/chineseTest.txt\n",
    "D5\t1\t\tChinese Chinese Chinese Tokyo Japan\n",
    "D6\t1\t\tBeijing Shanghai Trade\n",
    "D7\t0\t\tJapan Macao Tokyo\n",
    "D8\t0\t\tTokyo Japan Trade"
   ]
  },
  {
   "cell_type": "code",
   "execution_count": 27,
   "metadata": {},
   "outputs": [
    {
     "name": "stdout",
     "output_type": "stream",
     "text": [
      "Overwriting NBmodel.txt\n"
     ]
    }
   ],
   "source": [
    "%%writefile NBmodel.txt\n",
    "beijing\t0.0,1.0,0.111111111111,0.142857142857\n",
    "chinese\t1.0,5.0,0.222222222222,0.428571428571\n",
    "tokyo\t1.0,0.0,0.222222222222,0.0714285714286\n",
    "shanghai\t0.0,1.0,0.111111111111,0.142857142857\n",
    "ClassPriors\t1.0,3.0,0.25,0.75\n",
    "japan\t1.0,0.0,0.222222222222,0.0714285714286\n",
    "macao\t0.0,1.0,0.111111111111,0.142857142857"
   ]
  },
  {
   "cell_type": "code",
   "execution_count": 28,
   "metadata": {},
   "outputs": [
    {
     "name": "stdout",
     "output_type": "stream",
     "text": [
      "copyFromLocal: `/user/root/HW2/chineseTrain.txt': File exists\n",
      "copyFromLocal: `/user/root/HW2/chineseTest.txt': File exists\n"
     ]
    }
   ],
   "source": [
    "# load the data files into HDFS\n",
    "!hdfs dfs -copyFromLocal NaiveBayes/chineseTrain.txt {HDFS_DIR}\n",
    "!hdfs dfs -copyFromLocal NaiveBayes/chineseTest.txt {HDFS_DIR}"
   ]
  },
  {
   "cell_type": "markdown",
   "metadata": {},
   "source": [
    "Your work for `part e` starts here:"
   ]
  },
  {
   "cell_type": "code",
   "execution_count": 29,
   "metadata": {},
   "outputs": [],
   "source": [
    "# part e - do your work in NaiveBayes/classify_mapper.py first, then run this cell.\n",
    "!chmod a+x NaiveBayes/classify_mapper.py"
   ]
  },
  {
   "cell_type": "code",
   "execution_count": 30,
   "metadata": {},
   "outputs": [
    {
     "name": "stdout",
     "output_type": "stream",
     "text": [
      "d5  1  -8.90668134500626   -8.10769031284611   1\n",
      "d6  1  -5.780743515794329  -4.179502370564408  1\n",
      "d7  0  -6.591673732011658  -7.511706880737812  0\n",
      "d8  0  -4.394449154674438  -5.565796731681498  0\n"
     ]
    }
   ],
   "source": [
    "# part e - unit test NaiveBayes/classify_mapper.py (RUN THIS CELL AS IS)\n",
    "!cat NaiveBayes/chineseTest.txt | NaiveBayes/classify_mapper.py | column -t"
   ]
  },
  {
   "cell_type": "code",
   "execution_count": 31,
   "metadata": {},
   "outputs": [
    {
     "name": "stdout",
     "output_type": "stream",
     "text": [
      "Deleted /user/root/HW2/chinese-output\n"
     ]
    }
   ],
   "source": [
    "# part e - clear the output directory in HDFS (RUN THIS CELL AS IS)\n",
    "!hdfs dfs -rm -r {HDFS_DIR}/chinese-output"
   ]
  },
  {
   "cell_type": "code",
   "execution_count": 32,
   "metadata": {},
   "outputs": [
    {
     "name": "stdout",
     "output_type": "stream",
     "text": [
      "packageJobJar: [] [/usr/lib/hadoop-mapreduce/hadoop-streaming-2.6.0-cdh5.16.2.jar] /tmp/streamjob9098305633850426437.jar tmpDir=null\n",
      "21/06/08 01:01:40 INFO client.RMProxy: Connecting to ResourceManager at /0.0.0.0:8032\n",
      "21/06/08 01:01:40 INFO client.RMProxy: Connecting to ResourceManager at /0.0.0.0:8032\n",
      "21/06/08 01:01:41 INFO mapred.FileInputFormat: Total input paths to process : 1\n",
      "21/06/08 01:01:41 INFO mapreduce.JobSubmitter: number of splits:2\n",
      "21/06/08 01:01:41 INFO mapreduce.JobSubmitter: Submitting tokens for job: job_1623070339035_0029\n",
      "21/06/08 01:01:41 INFO impl.YarnClientImpl: Submitted application application_1623070339035_0029\n",
      "21/06/08 01:01:41 INFO mapreduce.Job: The url to track the job: http://docker.w261:8088/proxy/application_1623070339035_0029/\n",
      "21/06/08 01:01:41 INFO mapreduce.Job: Running job: job_1623070339035_0029\n",
      "21/06/08 01:01:47 INFO mapreduce.Job: Job job_1623070339035_0029 running in uber mode : false\n",
      "21/06/08 01:01:47 INFO mapreduce.Job:  map 0% reduce 0%\n",
      "21/06/08 01:01:53 INFO mapreduce.Job:  map 50% reduce 0%\n",
      "21/06/08 01:01:54 INFO mapreduce.Job:  map 100% reduce 0%\n",
      "21/06/08 01:01:59 INFO mapreduce.Job:  map 100% reduce 100%\n",
      "21/06/08 01:01:59 INFO mapreduce.Job: Job job_1623070339035_0029 completed successfully\n",
      "21/06/08 01:01:59 INFO mapreduce.Job: Counters: 49\n",
      "\tFile System Counters\n",
      "\t\tFILE: Number of bytes read=192\n",
      "\t\tFILE: Number of bytes written=448739\n",
      "\t\tFILE: Number of read operations=0\n",
      "\t\tFILE: Number of large read operations=0\n",
      "\t\tFILE: Number of write operations=0\n",
      "\t\tHDFS: Number of bytes read=405\n",
      "\t\tHDFS: Number of bytes written=178\n",
      "\t\tHDFS: Number of read operations=9\n",
      "\t\tHDFS: Number of large read operations=0\n",
      "\t\tHDFS: Number of write operations=2\n",
      "\tJob Counters \n",
      "\t\tLaunched map tasks=2\n",
      "\t\tLaunched reduce tasks=1\n",
      "\t\tData-local map tasks=2\n",
      "\t\tTotal time spent by all maps in occupied slots (ms)=8003\n",
      "\t\tTotal time spent by all reduces in occupied slots (ms)=3121\n",
      "\t\tTotal time spent by all map tasks (ms)=8003\n",
      "\t\tTotal time spent by all reduce tasks (ms)=3121\n",
      "\t\tTotal vcore-milliseconds taken by all map tasks=8003\n",
      "\t\tTotal vcore-milliseconds taken by all reduce tasks=3121\n",
      "\t\tTotal megabyte-milliseconds taken by all map tasks=8195072\n",
      "\t\tTotal megabyte-milliseconds taken by all reduce tasks=3195904\n",
      "\tMap-Reduce Framework\n",
      "\t\tMap input records=4\n",
      "\t\tMap output records=4\n",
      "\t\tMap output bytes=178\n",
      "\t\tMap output materialized bytes=198\n",
      "\t\tInput split bytes=226\n",
      "\t\tCombine input records=0\n",
      "\t\tCombine output records=0\n",
      "\t\tReduce input groups=4\n",
      "\t\tReduce shuffle bytes=198\n",
      "\t\tReduce input records=4\n",
      "\t\tReduce output records=4\n",
      "\t\tSpilled Records=8\n",
      "\t\tShuffled Maps =2\n",
      "\t\tFailed Shuffles=0\n",
      "\t\tMerged Map outputs=2\n",
      "\t\tGC time elapsed (ms)=98\n",
      "\t\tCPU time spent (ms)=2520\n",
      "\t\tPhysical memory (bytes) snapshot=808714240\n",
      "\t\tVirtual memory (bytes) snapshot=4133392384\n",
      "\t\tTotal committed heap usage (bytes)=822607872\n",
      "\tShuffle Errors\n",
      "\t\tBAD_ID=0\n",
      "\t\tCONNECTION=0\n",
      "\t\tIO_ERROR=0\n",
      "\t\tWRONG_LENGTH=0\n",
      "\t\tWRONG_MAP=0\n",
      "\t\tWRONG_REDUCE=0\n",
      "\tFile Input Format Counters \n",
      "\t\tBytes Read=179\n",
      "\tFile Output Format Counters \n",
      "\t\tBytes Written=178\n",
      "21/06/08 01:01:59 INFO streaming.StreamJob: Output directory: /user/root/HW2//chinese-output\n"
     ]
    }
   ],
   "source": [
    "# part e - write your Hadooop streaming job here\n",
    "!hadoop jar {JAR_FILE} \\\n",
    "  -files NaiveBayes/classify_mapper.py,NBmodel.txt \\\n",
    "  -mapper classify_mapper.py \\\n",
    "  -reducer /bin/cat \\\n",
    "  -input {HDFS_DIR}/chineseTest.txt \\\n",
    "  -output {HDFS_DIR}/chinese-output \\\n",
    "  -numReduceTasks 1 \\\n",
    "  -cmdenv PATH={PATH}\n"
   ]
  },
  {
   "cell_type": "code",
   "execution_count": 33,
   "metadata": {},
   "outputs": [],
   "source": [
    "# part e - retrieve test set results from HDFS (RUN THIS CELL AS IS)\n",
    "!hdfs dfs -cat {HDFS_DIR}/chinese-output/part-000* > NaiveBayes/chineseResults.txt"
   ]
  },
  {
   "cell_type": "code",
   "execution_count": 34,
   "metadata": {},
   "outputs": [
    {
     "name": "stdout",
     "output_type": "stream",
     "text": [
      "d5  1  -8.90668134500626   -8.10769031284611   1\n",
      "d6  1  -5.780743515794329  -4.179502370564408  1\n",
      "d7  0  -6.591673732011658  -7.511706880737812  0\n",
      "d8  0  -4.394449154674438  -5.565796731681498  0\n"
     ]
    }
   ],
   "source": [
    "# part e - take a look (RUN THIS CELL AS IS)\n",
    "!cat NaiveBayes/chineseResults.txt | column -t"
   ]
  },
  {
   "cell_type": "markdown",
   "metadata": {},
   "source": [
    "<table>\n",
    "<th> Expected output for the test set:</th>\n",
    "<tr align=Left><td><pre>\n",
    "d5\t1\t-8.90668134\t-8.10769031\t1\n",
    "d6\t1\t-5.78074351\t-4.17950237\t1\n",
    "d7\t0\t-6.59167373\t-7.51170688\t0\n",
    "d8\t0\t-4.39444915\t-5.56579673\t0\n",
    "</pre></td><tr>\n",
    "</table>"
   ]
  },
  {
   "cell_type": "markdown",
   "metadata": {},
   "source": [
    "# Question 8: Naive Bayes Training.\n",
    "In Question 7 we used a model that we had trained by hand. Next we'll develop the code to do that same training in parallel, making it suitable for use with larger corpora (like the Enron emails). The end result of the MapReduce job you write in this question should be a model text file that looks just like the example (`NBmodel.txt`) that we created by hand above.\n",
    "\n",
    "To refresh your memory about the training process take a look at  `6a` and `6b` where you described the pieces of information you'll need to collect in order to encode a Multinomial Naive Bayes model. We now want to retrieve those pieces of information while streaming over a corpus. The bulk of the task will be very similar to the word counting excercises you've already done but you may want to consider a slightly different key-value record structure to efficiently tally counts for each class. \n",
    "\n",
    "The most challenging (interesting?) design question will be how to retrieve the totals (# of documents and # of words in documents for each class). Of course, counting these numbers is easy. The hard part is the timing: you'll need to make sure you have the counts totalled up _before_ you start estimating the class conditional probabilities for each word. It would be best (i.e. most scalable) if we could find a way to do this tallying without storing the whole vocabulary in memory... Use an appropriate MapReduce design pattern to implement this efficiently! \n",
    "\n",
    "\n",
    "### Q8 Tasks:\n",
    "* __a) make a plan:__  Fill in the docstrings for __`NaiveBayes/train_mapper.py`__ and __`NaiveBayes/train_reducer.py`__ to appropriately reflect the format that each script will input/output. [`HINT:` _the input files_ (`enronemail_1h.txt` & `chineseTrain.txt`) _have a prespecified format and your output file should match_ `NBmodel.txt` _so you really only have to decide on an internal format for Hadoop_].\n",
    "\n",
    "\n",
    "* __b) implement it:__ Complete the code in __`NaiveBayes/train_mapper.py`__ and __`NaiveBayes/train_reducer.py`__ so that together they train a Multinomial Naive Bayes model __with no smoothing__. Make sure your end result is formatted correctly (see note above). Test your scripts independently and together (using `chineseTrain.txt` or test input of your own devising). When you are satisfied with your Python code design and run a Hadoop streaming command to run your job in parallel on the __chineseTrain.txt__. Confirm that your trained model matches your hand calculations from Question 6.\n",
    "\n",
    "\n",
    "* __c) short response:__ We saw in Question 6 that adding Laplace smoothing (where the smoothing parameter $k=1$) makes our classifications less sensitve to rare words. However implementing this technique requires access to one additional piece of information that we had not previously used in our Naive Bayes training. What is that extra piece of information? [`HINT:` see equation 13.7 in Manning, Raghavan and Schutze].\n",
    "\n",
    "\n",
    "* __d) short response:__ There are a couple of approaches that we could take to handle the extra piece of information you identified in `c`: 1) if we knew this extra information beforehand, we could provide it to our reducer as a configurable parameter for the vocab size dynamically (_where would we get it in the first place?_). Or 2) we could compute it in the reducer without storing any bulky information in memory but then we'd need some postprocessing or a second MapReduce job to complete the calculation (_why?_). Breifly explain what is non-ideal about each of these options. \n",
    "\n",
    "\n",
    "* __e) code + short response:__ Choose one of the 2 options above. State your choice & reasoning in the space below then use that strategy to complete the code in __`NaiveBayes/train_reducer_smooth.py`__. Test this alternate reducer then write and run a Hadoop streaming job to train an MNB model with smoothing on the Chinese example. Your results should match the model that we provided for you above (and the calculations in the textbook example). __IMPORTANT NOTE:__ For full credit on this question, your code must work with multiple reducers. \n",
    "\n",
    "    - [`HINT:` You will need to implement custom partitioning - [Total Order Sort Notebook](https://github.com/UCB-w261/main/tree/master/HelpfulResources/TotalSortGuide/_total-sort-guide-spark2.01-JAN27-2017.ipynb)] \n",
    "\n",
    "    - [`HINT:` Don't start from scratch with this one -- you can just copy over your reducer code from part `b` and make the needed modifications]. \n"
   ]
  },
  {
   "cell_type": "markdown",
   "metadata": {},
   "source": [
    "\n",
    "__IMPORTANT NOTE:__ For full credit on this question, your code must work with multiple reducers. [`HINT:`_You will need to implement custom partitioning - [Total Order Sort Notebook](https://github.com/UCB-w261/main/tree/master/HelpfulResources/TotalSortGuide/_total-sort-guide-spark2.01-JAN27-2017.ipynb)]\n"
   ]
  },
  {
   "cell_type": "markdown",
   "metadata": {},
   "source": [
    "### Q8 Student Answers:\n",
    "> __ c)__ The extra piece of info missing is vocabulary of the corpus, that is count of unique words in the corpus.\n",
    "\n",
    "> __ d)__ The first option is non ideal for regular classification work where the input data is changing frequently, like reddit feed etc,  because in that case our vocab size has to be calculated everytime we run the job. In such case, its better top have this incorporated in the hadoop mapreduce job. \n",
    "On the other hand, the 2nd option will be non ideal when our feed is having more of a static vocabulary, such as weather forecast which generally has fixed/static vocabulary. Our job does not need to recalculate vocabulary everytime.\n",
    "\n",
    "> __ e)__ I chose the 2nd option and implemented two mapreduce job because we are training model on email feed, which in practice, will have changing vocabulary size. \n",
    "    a. First mapreduce job is doing word partial counts and document partial counts in mapper and reducing/aggregating the counts in reducer with custom partitioning. The output of this job will have unique words along with aggregated document count and word count for each class.\n",
    "    b. Second mapreduce is calculating vocabulary partial count using local aggregator in mapper and likelihood calculation is done in reducer. We are reusing the partition key from first job. We should keep the number of reducers for both jobs same for this reason. It is possible to decouple it by an independing custom partitioning in 2nd job. \n",
    "   Also, since 2nd mapreduce takes in aggregated result from 1st mapreduce, this strategy is more efficient than passing through entire data in both jobs. \n",
    "\n"
   ]
  },
  {
   "cell_type": "code",
   "execution_count": 35,
   "metadata": {},
   "outputs": [
    {
     "name": "stdout",
     "output_type": "stream",
     "text": [
      "=========== MAPPER DOCSTRING ============\n",
      "Mapper reads in text documents and emits word counts by class.\n",
      "INPUT:                                                    \n",
      "    DocID \\t true_class \\t subject \\t body                \n",
      "OUTPUT:                                                   \n",
      "    partitionKey \\t word \\t class0_partialCount,class1_partialCount       \n",
      "    \n",
      "=========== REDUCER DOCSTRING ============\n",
      "Reducer aggregates word counts by class and emits frequencies.\n",
      "\n",
      "INPUT:\n",
      "    partitionKey \\t word \\t class0_partialCount,class1_partialCount\n",
      "OUTPUT:\n",
      "    word \\t class0_count,class1_count,pclass0,pclass1 \n"
     ]
    }
   ],
   "source": [
    "# part a - do your work in train_mapper.py and train_reducer.py then RUN THIS CELL AS IS\n",
    "!chmod a+x NaiveBayes/train_mapper.py\n",
    "!chmod a+x NaiveBayes/train_reducer.py\n",
    "!echo \"=========== MAPPER DOCSTRING ============\"\n",
    "!head -n 8 NaiveBayes/train_mapper.py | tail -n 6\n",
    "!echo \"=========== REDUCER DOCSTRING ============\"\n",
    "!head -n 8 NaiveBayes/train_reducer.py | tail -n 6"
   ]
  },
  {
   "cell_type": "markdown",
   "metadata": {},
   "source": [
    "__`part b starts here`:__ MNB _without_ Smoothing (training on Chinese Example Corpus)."
   ]
  },
  {
   "cell_type": "code",
   "execution_count": 36,
   "metadata": {},
   "outputs": [
    {
     "name": "stdout",
     "output_type": "stream",
     "text": [
      "A\t*total_doc_count\t1,1\n",
      "A\t*total_word_count\t10,5\n",
      "A\tam\t1,0\n",
      "A\tare\t1,0\n",
      "A\tfine\t1,0\n",
      "A\thello\t1,0\n",
      "A\thello\t1,0\n",
      "A\thow\t1,0\n",
      "A\ti\t1,0\n",
      "A\tlottery\t0,1\n",
      "A\tm\t0,1\n",
      "A\tthankyou\t1,0\n",
      "A\twinner\t0,1\n",
      "A\twinner\t1,0\n",
      "A\twon\t0,1\n",
      "A\tyou\t0,1\n",
      "A\tyou\t1,0\n"
     ]
    }
   ],
   "source": [
    "# part b - write a unit test for your mapper here\n",
    "!echo -e \"d1\t0\thello, how are you?\thello, I am fine thankyou winner\\nd2\t1\tlottery winner\tYou won $100M\" | NaiveBayes/train_mapper.py|sort -k2,2"
   ]
  },
  {
   "cell_type": "code",
   "execution_count": 37,
   "metadata": {},
   "outputs": [
    {
     "name": "stdout",
     "output_type": "stream",
     "text": [
      "ClassPriors\t1.0,1.0,0.5,0.5\n",
      "hello\t2.0,0.0,0.2,0.0\n",
      "how\t1.0,0.0,0.1,0.0\n",
      "are\t1.0,0.0,0.1,0.0\n",
      "you\t1.0,1.0,0.1,0.2\n",
      "i\t1.0,0.0,0.1,0.0\n",
      "am\t1.0,0.0,0.1,0.0\n",
      "fine\t1.0,0.0,0.1,0.0\n",
      "thankyou\t1.0,0.0,0.1,0.0\n",
      "winner\t1.0,1.0,0.1,0.2\n",
      "lottery\t0.0,1.0,0.0,0.2\n",
      "won\t0.0,1.0,0.0,0.2\n",
      "m\t0.0,1.0,0.0,0.2\n"
     ]
    }
   ],
   "source": [
    "# part b - write a unit test for your reducer here\n",
    "!cat test_8b_reducer.txt | NaiveBayes/train_reducer.py"
   ]
  },
  {
   "cell_type": "code",
   "execution_count": 38,
   "metadata": {},
   "outputs": [
    {
     "name": "stdout",
     "output_type": "stream",
     "text": [
      "ClassPriors\t1.0,1.0,0.5,0.5\n",
      "am\t1.0,0.0,0.1,0.0\n",
      "are\t1.0,0.0,0.1,0.0\n",
      "fine\t1.0,0.0,0.1,0.0\n",
      "hello\t2.0,0.0,0.2,0.0\n",
      "how\t1.0,0.0,0.1,0.0\n",
      "i\t1.0,0.0,0.1,0.0\n",
      "lottery\t0.0,1.0,0.0,0.2\n",
      "m\t0.0,1.0,0.0,0.2\n",
      "thankyou\t1.0,0.0,0.1,0.0\n",
      "winner\t1.0,1.0,0.1,0.2\n",
      "won\t0.0,1.0,0.0,0.2\n",
      "you\t1.0,1.0,0.1,0.2\n"
     ]
    }
   ],
   "source": [
    "# part b - write a systems test for your mapper + reducer together here\n",
    "!echo -e \"d1\t0\thello, how are you?\thello, I am fine thankyou winner\\nd2\t1\tlottery winner\tYou won $100M\" | NaiveBayes/train_mapper.py|sort -k1,1 -k2,2 |NaiveBayes/train_reducer.py"
   ]
  },
  {
   "cell_type": "code",
   "execution_count": 39,
   "metadata": {},
   "outputs": [
    {
     "name": "stdout",
     "output_type": "stream",
     "text": [
      "Deleted /user/root/HW2/unsmoothed_chinese_NBmodel-output\n"
     ]
    }
   ],
   "source": [
    "# part b - clear (and name) an output directory in HDFS for your unsmoothed chinese NB model\n",
    "!hdfs dfs -rm -r {HDFS_DIR}/unsmoothed_chinese_NBmodel-output"
   ]
  },
  {
   "cell_type": "code",
   "execution_count": 40,
   "metadata": {},
   "outputs": [
    {
     "name": "stdout",
     "output_type": "stream",
     "text": [
      "packageJobJar: [] [/usr/lib/hadoop-mapreduce/hadoop-streaming-2.6.0-cdh5.16.2.jar] /tmp/streamjob8889737676166475622.jar tmpDir=null\n",
      "21/06/08 01:02:37 INFO client.RMProxy: Connecting to ResourceManager at /0.0.0.0:8032\n",
      "21/06/08 01:02:37 INFO client.RMProxy: Connecting to ResourceManager at /0.0.0.0:8032\n",
      "21/06/08 01:02:38 INFO mapred.FileInputFormat: Total input paths to process : 1\n",
      "21/06/08 01:02:38 INFO mapreduce.JobSubmitter: number of splits:2\n",
      "21/06/08 01:02:38 INFO mapreduce.JobSubmitter: Submitting tokens for job: job_1623070339035_0030\n",
      "21/06/08 01:02:38 INFO impl.YarnClientImpl: Submitted application application_1623070339035_0030\n",
      "21/06/08 01:02:38 INFO mapreduce.Job: The url to track the job: http://docker.w261:8088/proxy/application_1623070339035_0030/\n",
      "21/06/08 01:02:38 INFO mapreduce.Job: Running job: job_1623070339035_0030\n",
      "21/06/08 01:02:44 INFO mapreduce.Job: Job job_1623070339035_0030 running in uber mode : false\n",
      "21/06/08 01:02:44 INFO mapreduce.Job:  map 0% reduce 0%\n",
      "21/06/08 01:02:50 INFO mapreduce.Job:  map 50% reduce 0%\n",
      "21/06/08 01:02:51 INFO mapreduce.Job:  map 100% reduce 0%\n",
      "21/06/08 01:02:57 INFO mapreduce.Job:  map 100% reduce 25%\n",
      "21/06/08 01:03:00 INFO mapreduce.Job:  map 100% reduce 50%\n",
      "21/06/08 01:03:01 INFO mapreduce.Job:  map 100% reduce 75%\n",
      "21/06/08 01:03:02 INFO mapreduce.Job:  map 100% reduce 100%\n",
      "21/06/08 01:03:02 INFO mapreduce.Job: Job job_1623070339035_0030 completed successfully\n",
      "21/06/08 01:03:03 INFO mapreduce.Job: Counters: 50\n",
      "\tFile System Counters\n",
      "\t\tFILE: Number of bytes read=603\n",
      "\t\tFILE: Number of bytes written=903860\n",
      "\t\tFILE: Number of read operations=0\n",
      "\t\tFILE: Number of large read operations=0\n",
      "\t\tFILE: Number of write operations=0\n",
      "\t\tHDFS: Number of bytes read=389\n",
      "\t\tHDFS: Number of bytes written=222\n",
      "\t\tHDFS: Number of read operations=18\n",
      "\t\tHDFS: Number of large read operations=0\n",
      "\t\tHDFS: Number of write operations=8\n",
      "\tJob Counters \n",
      "\t\tKilled reduce tasks=1\n",
      "\t\tLaunched map tasks=2\n",
      "\t\tLaunched reduce tasks=4\n",
      "\t\tData-local map tasks=2\n",
      "\t\tTotal time spent by all maps in occupied slots (ms)=8126\n",
      "\t\tTotal time spent by all reduces in occupied slots (ms)=23473\n",
      "\t\tTotal time spent by all map tasks (ms)=8126\n",
      "\t\tTotal time spent by all reduce tasks (ms)=23473\n",
      "\t\tTotal vcore-milliseconds taken by all map tasks=8126\n",
      "\t\tTotal vcore-milliseconds taken by all reduce tasks=23473\n",
      "\t\tTotal megabyte-milliseconds taken by all map tasks=8321024\n",
      "\t\tTotal megabyte-milliseconds taken by all reduce tasks=24036352\n",
      "\tMap-Reduce Framework\n",
      "\t\tMap input records=4\n",
      "\t\tMap output records=27\n",
      "\t\tMap output bytes=525\n",
      "\t\tMap output materialized bytes=627\n",
      "\t\tInput split bytes=228\n",
      "\t\tCombine input records=0\n",
      "\t\tCombine output records=0\n",
      "\t\tReduce input groups=14\n",
      "\t\tReduce shuffle bytes=627\n",
      "\t\tReduce input records=27\n",
      "\t\tReduce output records=7\n",
      "\t\tSpilled Records=54\n",
      "\t\tShuffled Maps =8\n",
      "\t\tFailed Shuffles=0\n",
      "\t\tMerged Map outputs=8\n",
      "\t\tGC time elapsed (ms)=368\n",
      "\t\tCPU time spent (ms)=6430\n",
      "\t\tPhysical memory (bytes) snapshot=1685344256\n",
      "\t\tVirtual memory (bytes) snapshot=8259006464\n",
      "\t\tTotal committed heap usage (bytes)=1909456896\n",
      "\tShuffle Errors\n",
      "\t\tBAD_ID=0\n",
      "\t\tCONNECTION=0\n",
      "\t\tIO_ERROR=0\n",
      "\t\tWRONG_LENGTH=0\n",
      "\t\tWRONG_MAP=0\n",
      "\t\tWRONG_REDUCE=0\n",
      "\tFile Input Format Counters \n",
      "\t\tBytes Read=161\n",
      "\tFile Output Format Counters \n",
      "\t\tBytes Written=222\n",
      "21/06/08 01:03:03 INFO streaming.StreamJob: Output directory: /user/root/HW2//unsmoothed_chinese_NBmodel-output\n"
     ]
    }
   ],
   "source": [
    "# part b - write your hadoop streaming job\n",
    "!hadoop jar {JAR_FILE} \\\n",
    "  -D stream.num.map.output.key.fields=2 \\\n",
    "  -D mapreduce.job.output.key.comparator.class=org.apache.hadoop.mapred.lib.KeyFieldBasedComparator \\\n",
    "  -D mapreduce.partition.keypartitioner.options=\"-k1,1\" \\\n",
    "  -D mapreduce.partition.keycomparator.options=\"-k2,2\" \\\n",
    "  -files NaiveBayes/train_mapper.py,NaiveBayes/train_reducer.py\\\n",
    "  -mapper train_mapper.py \\\n",
    "  -reducer train_reducer.py \\\n",
    "  -partitioner org.apache.hadoop.mapred.lib.KeyFieldBasedPartitioner \\\n",
    "  -input {HDFS_DIR}/chineseTrain.txt \\\n",
    "  -output {HDFS_DIR}/unsmoothed_chinese_NBmodel-output \\\n",
    "  -cmdenv PATH={PATH} \\\n",
    "  -numReduceTasks 4"
   ]
  },
  {
   "cell_type": "code",
   "execution_count": 41,
   "metadata": {},
   "outputs": [],
   "source": [
    "# part b - extract your results (i.e. model) to a local file\n",
    "!hdfs dfs -cat {HDFS_DIR}/unsmoothed_chinese_NBmodel-output/part-000* > NaiveBayes/unsmoothed_chinese_NBmodel-output.txt"
   ]
  },
  {
   "cell_type": "code",
   "execution_count": 42,
   "metadata": {},
   "outputs": [
    {
     "name": "stdout",
     "output_type": "stream",
     "text": [
      "ClassPriors\t1.0,3.0,0.25,0.75\n",
      "chinese\t1.0,5.0,0.3333333333333333,0.625\n",
      "macao\t0.0,1.0,0.0,0.125\n",
      "beijing\t0.0,1.0,0.0,0.125\n",
      "japan\t1.0,0.0,0.3333333333333333,0.0\n",
      "tokyo\t1.0,0.0,0.3333333333333333,0.0\n",
      "shanghai\t0.0,1.0,0.0,0.125\n"
     ]
    }
   ],
   "source": [
    "# part b - print your model so that we can confirm that it matches expected results\n",
    "!cat NaiveBayes/unsmoothed_chinese_NBmodel-output.txt"
   ]
  },
  {
   "cell_type": "markdown",
   "metadata": {},
   "source": [
    "__`part e starts here`:__ MNB _with_ Smoothing (training on Chinese Example Corpus)."
   ]
  },
  {
   "cell_type": "code",
   "execution_count": 43,
   "metadata": {},
   "outputs": [
    {
     "name": "stdout",
     "output_type": "stream",
     "text": [
      "A\t*total_doc_count\t1.0,1.0\n",
      "A\t*total_word_count\t10.0,5.0\n",
      "A\thello\t2.0,0.0\n",
      "A\thow\t1.0,0.0\n",
      "A\tare\t1.0,0.0\n",
      "A\tyou\t1.0,1.0\n",
      "A\ti\t1.0,0.0\n",
      "A\tam\t1.0,0.0\n",
      "A\tfine\t1.0,0.0\n",
      "A\tthankyou\t1.0,0.0\n",
      "A\twinner\t1.0,1.0\n",
      "A\tlottery\t0.0,1.0\n",
      "A\twon\t0.0,1.0\n",
      "A\tm\t0.0,1.0\n"
     ]
    }
   ],
   "source": [
    "# part e - write a unit test for your NEW reducer here\n",
    "!chmod a+x NaiveBayes/train_second_mapper_smooth.py\n",
    "!chmod a+x NaiveBayes/train_second_reducer_smooth.py\n",
    "!chmod a+x NaiveBayes/train_reducer_smooth.py\n",
    "\n",
    "!cat test_8b_reducer.txt | NaiveBayes/train_reducer_smooth.py"
   ]
  },
  {
   "cell_type": "code",
   "execution_count": 44,
   "metadata": {},
   "outputs": [
    {
     "name": "stdout",
     "output_type": "stream",
     "text": [
      "ClassPriors\t1.0,3.0,0.25,0.75\n",
      "beijing\t0.0,1.0,0.1111111111111111,0.14285714285714285\n",
      "chinese\t1.0,5.0,0.2222222222222222,0.42857142857142855\n",
      "japan\t1.0,0.0,0.2222222222222222,0.07142857142857142\n",
      "macao\t0.0,1.0,0.1111111111111111,0.14285714285714285\n",
      "shanghai\t0.0,1.0,0.1111111111111111,0.14285714285714285\n",
      "tokyo\t1.0,0.0,0.2222222222222222,0.07142857142857142\n"
     ]
    }
   ],
   "source": [
    "# part e - write a systems test for your mapper + reducer together here\n",
    "!cat NaiveBayes/chineseTrain.txt | NaiveBayes/train_mapper.py|sort -k1,1 -k2,2 |NaiveBayes/train_reducer_smooth.py|NaiveBayes/train_second_mapper_smooth.py| sort -k1,1 -k2,2 |NaiveBayes/train_second_reducer_smooth.py"
   ]
  },
  {
   "cell_type": "code",
   "execution_count": 45,
   "metadata": {},
   "outputs": [
    {
     "name": "stdout",
     "output_type": "stream",
     "text": [
      "Deleted /user/root/HW2/smoothed_chinese_NBmodel-output\n",
      "Deleted /user/root/HW2/smoothed_chinese_NBmodel-output_part1\n"
     ]
    }
   ],
   "source": [
    "# part e - clear (and name) an output directory in HDFS for your SMOOTHED chinese NB model\n",
    "!hdfs dfs -rm -r {HDFS_DIR}/smoothed_chinese_NBmodel-output\n",
    "!hdfs dfs -rm -r {HDFS_DIR}/smoothed_chinese_NBmodel-output_part1"
   ]
  },
  {
   "cell_type": "code",
   "execution_count": 46,
   "metadata": {},
   "outputs": [
    {
     "name": "stdout",
     "output_type": "stream",
     "text": [
      "packageJobJar: [] [/usr/lib/hadoop-mapreduce/hadoop-streaming-2.6.0-cdh5.16.2.jar] /tmp/streamjob4567750820806118179.jar tmpDir=null\n",
      "21/06/08 01:03:18 INFO client.RMProxy: Connecting to ResourceManager at /0.0.0.0:8032\n",
      "21/06/08 01:03:19 INFO client.RMProxy: Connecting to ResourceManager at /0.0.0.0:8032\n",
      "21/06/08 01:03:19 INFO mapred.FileInputFormat: Total input paths to process : 1\n",
      "21/06/08 01:03:19 INFO mapreduce.JobSubmitter: number of splits:2\n",
      "21/06/08 01:03:20 INFO mapreduce.JobSubmitter: Submitting tokens for job: job_1623070339035_0031\n",
      "21/06/08 01:03:20 INFO impl.YarnClientImpl: Submitted application application_1623070339035_0031\n",
      "21/06/08 01:03:20 INFO mapreduce.Job: The url to track the job: http://docker.w261:8088/proxy/application_1623070339035_0031/\n",
      "21/06/08 01:03:20 INFO mapreduce.Job: Running job: job_1623070339035_0031\n",
      "21/06/08 01:03:26 INFO mapreduce.Job: Job job_1623070339035_0031 running in uber mode : false\n",
      "21/06/08 01:03:26 INFO mapreduce.Job:  map 0% reduce 0%\n",
      "21/06/08 01:03:32 INFO mapreduce.Job:  map 50% reduce 0%\n",
      "21/06/08 01:03:33 INFO mapreduce.Job:  map 100% reduce 0%\n",
      "21/06/08 01:03:41 INFO mapreduce.Job:  map 100% reduce 25%\n",
      "21/06/08 01:03:44 INFO mapreduce.Job:  map 100% reduce 50%\n",
      "21/06/08 01:03:45 INFO mapreduce.Job:  map 100% reduce 75%\n",
      "21/06/08 01:03:46 INFO mapreduce.Job:  map 100% reduce 100%\n",
      "21/06/08 01:03:46 INFO mapreduce.Job: Job job_1623070339035_0031 completed successfully\n",
      "21/06/08 01:03:46 INFO mapreduce.Job: Counters: 50\n",
      "\tFile System Counters\n",
      "\t\tFILE: Number of bytes read=603\n",
      "\t\tFILE: Number of bytes written=904094\n",
      "\t\tFILE: Number of read operations=0\n",
      "\t\tFILE: Number of large read operations=0\n",
      "\t\tFILE: Number of write operations=0\n",
      "\t\tHDFS: Number of bytes read=389\n",
      "\t\tHDFS: Number of bytes written=323\n",
      "\t\tHDFS: Number of read operations=18\n",
      "\t\tHDFS: Number of large read operations=0\n",
      "\t\tHDFS: Number of write operations=8\n",
      "\tJob Counters \n",
      "\t\tKilled reduce tasks=1\n",
      "\t\tLaunched map tasks=2\n",
      "\t\tLaunched reduce tasks=4\n",
      "\t\tData-local map tasks=2\n",
      "\t\tTotal time spent by all maps in occupied slots (ms)=8206\n",
      "\t\tTotal time spent by all reduces in occupied slots (ms)=25548\n",
      "\t\tTotal time spent by all map tasks (ms)=8206\n",
      "\t\tTotal time spent by all reduce tasks (ms)=25548\n",
      "\t\tTotal vcore-milliseconds taken by all map tasks=8206\n",
      "\t\tTotal vcore-milliseconds taken by all reduce tasks=25548\n",
      "\t\tTotal megabyte-milliseconds taken by all map tasks=8402944\n",
      "\t\tTotal megabyte-milliseconds taken by all reduce tasks=26161152\n",
      "\tMap-Reduce Framework\n",
      "\t\tMap input records=4\n",
      "\t\tMap output records=27\n",
      "\t\tMap output bytes=525\n",
      "\t\tMap output materialized bytes=627\n",
      "\t\tInput split bytes=228\n",
      "\t\tCombine input records=0\n",
      "\t\tCombine output records=0\n",
      "\t\tReduce input groups=14\n",
      "\t\tReduce shuffle bytes=627\n",
      "\t\tReduce input records=27\n",
      "\t\tReduce output records=14\n",
      "\t\tSpilled Records=54\n",
      "\t\tShuffled Maps =8\n",
      "\t\tFailed Shuffles=0\n",
      "\t\tMerged Map outputs=8\n",
      "\t\tGC time elapsed (ms)=460\n",
      "\t\tCPU time spent (ms)=6680\n",
      "\t\tPhysical memory (bytes) snapshot=1592811520\n",
      "\t\tVirtual memory (bytes) snapshot=8258498560\n",
      "\t\tTotal committed heap usage (bytes)=1843396608\n",
      "\tShuffle Errors\n",
      "\t\tBAD_ID=0\n",
      "\t\tCONNECTION=0\n",
      "\t\tIO_ERROR=0\n",
      "\t\tWRONG_LENGTH=0\n",
      "\t\tWRONG_MAP=0\n",
      "\t\tWRONG_REDUCE=0\n",
      "\tFile Input Format Counters \n",
      "\t\tBytes Read=161\n",
      "\tFile Output Format Counters \n",
      "\t\tBytes Written=323\n",
      "21/06/08 01:03:46 INFO streaming.StreamJob: Output directory: /user/root/HW2//smoothed_chinese_NBmodel-output_part1\n",
      "packageJobJar: [] [/usr/lib/hadoop-mapreduce/hadoop-streaming-2.6.0-cdh5.16.2.jar] /tmp/streamjob1792430546876008865.jar tmpDir=null\n",
      "21/06/08 01:03:48 INFO client.RMProxy: Connecting to ResourceManager at /0.0.0.0:8032\n",
      "21/06/08 01:03:49 INFO client.RMProxy: Connecting to ResourceManager at /0.0.0.0:8032\n",
      "21/06/08 01:03:49 INFO mapred.FileInputFormat: Total input paths to process : 4\n",
      "21/06/08 01:03:49 INFO mapreduce.JobSubmitter: number of splits:4\n",
      "21/06/08 01:03:49 INFO mapreduce.JobSubmitter: Submitting tokens for job: job_1623070339035_0032\n",
      "21/06/08 01:03:50 INFO impl.YarnClientImpl: Submitted application application_1623070339035_0032\n",
      "21/06/08 01:03:50 INFO mapreduce.Job: The url to track the job: http://docker.w261:8088/proxy/application_1623070339035_0032/\n",
      "21/06/08 01:03:50 INFO mapreduce.Job: Running job: job_1623070339035_0032\n",
      "21/06/08 01:03:56 INFO mapreduce.Job: Job job_1623070339035_0032 running in uber mode : false\n",
      "21/06/08 01:03:56 INFO mapreduce.Job:  map 0% reduce 0%\n",
      "21/06/08 01:04:04 INFO mapreduce.Job:  map 25% reduce 0%\n",
      "21/06/08 01:04:06 INFO mapreduce.Job:  map 50% reduce 0%\n",
      "21/06/08 01:04:07 INFO mapreduce.Job:  map 75% reduce 0%\n",
      "21/06/08 01:04:08 INFO mapreduce.Job:  map 100% reduce 0%\n",
      "21/06/08 01:04:14 INFO mapreduce.Job:  map 100% reduce 25%\n",
      "21/06/08 01:04:15 INFO mapreduce.Job:  map 100% reduce 50%\n",
      "21/06/08 01:04:16 INFO mapreduce.Job:  map 100% reduce 75%\n",
      "21/06/08 01:04:17 INFO mapreduce.Job:  map 100% reduce 100%\n",
      "21/06/08 01:04:17 INFO mapreduce.Job: Job job_1623070339035_0032 completed successfully\n",
      "21/06/08 01:04:17 INFO mapreduce.Job: Counters: 50\n",
      "\tFile System Counters\n",
      "\t\tFILE: Number of bytes read=711\n",
      "\t\tFILE: Number of bytes written=1206442\n",
      "\t\tFILE: Number of read operations=0\n",
      "\t\tFILE: Number of large read operations=0\n",
      "\t\tFILE: Number of write operations=0\n",
      "\t\tHDFS: Number of bytes read=907\n",
      "\t\tHDFS: Number of bytes written=355\n",
      "\t\tHDFS: Number of read operations=24\n",
      "\t\tHDFS: Number of large read operations=0\n",
      "\t\tHDFS: Number of write operations=8\n",
      "\tJob Counters \n",
      "\t\tKilled reduce tasks=1\n",
      "\t\tLaunched map tasks=4\n",
      "\t\tLaunched reduce tasks=4\n",
      "\t\tData-local map tasks=4\n",
      "\t\tTotal time spent by all maps in occupied slots (ms)=23689\n",
      "\t\tTotal time spent by all reduces in occupied slots (ms)=33476\n",
      "\t\tTotal time spent by all map tasks (ms)=23689\n",
      "\t\tTotal time spent by all reduce tasks (ms)=33476\n",
      "\t\tTotal vcore-milliseconds taken by all map tasks=23689\n",
      "\t\tTotal vcore-milliseconds taken by all reduce tasks=33476\n",
      "\t\tTotal megabyte-milliseconds taken by all map tasks=24257536\n",
      "\t\tTotal megabyte-milliseconds taken by all reduce tasks=34279424\n",
      "\tMap-Reduce Framework\n",
      "\t\tMap input records=14\n",
      "\t\tMap output records=30\n",
      "\t\tMap output bytes=627\n",
      "\t\tMap output materialized bytes=783\n",
      "\t\tInput split bytes=584\n",
      "\t\tCombine input records=0\n",
      "\t\tCombine output records=0\n",
      "\t\tReduce input groups=18\n",
      "\t\tReduce shuffle bytes=783\n",
      "\t\tReduce input records=30\n",
      "\t\tReduce output records=7\n",
      "\t\tSpilled Records=60\n",
      "\t\tShuffled Maps =16\n",
      "\t\tFailed Shuffles=0\n",
      "\t\tMerged Map outputs=16\n",
      "\t\tGC time elapsed (ms)=521\n",
      "\t\tCPU time spent (ms)=8640\n",
      "\t\tPhysical memory (bytes) snapshot=2307264512\n",
      "\t\tVirtual memory (bytes) snapshot=10992693248\n",
      "\t\tTotal committed heap usage (bytes)=2413821952\n",
      "\tShuffle Errors\n",
      "\t\tBAD_ID=0\n",
      "\t\tCONNECTION=0\n",
      "\t\tIO_ERROR=0\n",
      "\t\tWRONG_LENGTH=0\n",
      "\t\tWRONG_MAP=0\n",
      "\t\tWRONG_REDUCE=0\n",
      "\tFile Input Format Counters \n",
      "\t\tBytes Read=323\n",
      "\tFile Output Format Counters \n",
      "\t\tBytes Written=355\n",
      "21/06/08 01:04:17 INFO streaming.StreamJob: Output directory: /user/root/HW2//smoothed_chinese_NBmodel-output\n"
     ]
    }
   ],
   "source": [
    "# part e - write your hadoop streaming job\n",
    "!hadoop jar {JAR_FILE} \\\n",
    "  -D stream.num.map.output.key.fields=2 \\\n",
    "  -D mapreduce.job.output.key.comparator.class=org.apache.hadoop.mapred.lib.KeyFieldBasedComparator \\\n",
    "  -D mapreduce.partition.keypartitioner.options=\"-k1,1\" \\\n",
    "  -D mapreduce.partition.keycomparator.options=\"-k2,2\" \\\n",
    "  -files NaiveBayes/train_mapper.py,NaiveBayes/train_reducer_smooth.py\\\n",
    "  -mapper train_mapper.py \\\n",
    "  -reducer train_reducer_smooth.py \\\n",
    "  -partitioner org.apache.hadoop.mapred.lib.KeyFieldBasedPartitioner \\\n",
    "  -input {HDFS_DIR}/chineseTrain.txt \\\n",
    "  -output {HDFS_DIR}/smoothed_chinese_NBmodel-output_part1 \\\n",
    "  -cmdenv PATH={PATH} \\\n",
    "  -numReduceTasks 4\n",
    "\n",
    "\n",
    "!hadoop jar {JAR_FILE} \\\n",
    "  -D stream.num.map.output.key.fields=2 \\\n",
    "  -D mapreduce.job.output.key.comparator.class=org.apache.hadoop.mapred.lib.KeyFieldBasedComparator \\\n",
    "  -D mapreduce.partition.keypartitioner.options=\"-k1,1\" \\\n",
    "  -D mapreduce.partition.keycomparator.options=\"-k2,2\" \\\n",
    "  -files NaiveBayes/train_second_mapper_smooth.py,NaiveBayes/train_second_reducer_smooth.py\\\n",
    "  -mapper train_second_mapper_smooth.py \\\n",
    "  -reducer train_second_reducer_smooth.py \\\n",
    "  -partitioner org.apache.hadoop.mapred.lib.KeyFieldBasedPartitioner \\\n",
    "  -input {HDFS_DIR}/smoothed_chinese_NBmodel-output_part1 \\\n",
    "  -output {HDFS_DIR}/smoothed_chinese_NBmodel-output \\\n",
    "  -cmdenv PATH={PATH} \\\n",
    "  -numReduceTasks 4"
   ]
  },
  {
   "cell_type": "code",
   "execution_count": 47,
   "metadata": {},
   "outputs": [],
   "source": [
    "# part e - extract your results (i.e. model) to a local file\n",
    "!hdfs dfs -cat {HDFS_DIR}/smoothed_chinese_NBmodel-output/part-000* > NaiveBayes/smoothed_chinese_NBmodel-output.txt"
   ]
  },
  {
   "cell_type": "code",
   "execution_count": 48,
   "metadata": {},
   "outputs": [
    {
     "name": "stdout",
     "output_type": "stream",
     "text": [
      "ClassPriors\t1.0,3.0,0.25,0.75\n",
      "chinese\t1.0,5.0,0.2222222222222222,0.42857142857142855\n",
      "macao\t0.0,1.0,0.1111111111111111,0.14285714285714285\n",
      "beijing\t0.0,1.0,0.1111111111111111,0.14285714285714285\n",
      "japan\t1.0,0.0,0.2222222222222222,0.07142857142857142\n",
      "tokyo\t1.0,0.0,0.2222222222222222,0.07142857142857142\n",
      "shanghai\t0.0,1.0,0.1111111111111111,0.14285714285714285\n"
     ]
    }
   ],
   "source": [
    "# part e - print your model (above local file) so that we can confirm that it matches expected results\n",
    "!cat  NaiveBayes/smoothed_chinese_NBmodel-output.txt"
   ]
  },
  {
   "cell_type": "markdown",
   "metadata": {},
   "source": [
    "# Question 9: Enron Ham/Spam NB Classifier & Results.\n",
    "\n",
    "Fantastic work. We're finally ready to perform Spam Classification on the Enron Corpus. In this question you'll run the analysis you've developed, report its performance.\n",
    "\n",
    "### Q9 Tasks:\n",
    "* __a) train/test split:__ Run the provided code to split our Enron file into a training set and testing set then load them into HDFS. [`NOTE:` _Make sure you re calculate the vocab size for just the training set!_]\n",
    "\n",
    "* __b) train 2 models:__ Write Hadoop Streaming jobs to train MNB Models on the training set with and without smoothing. Save your models to local files at __`NaiveBayes/Unsmoothed/NBmodel.txt`__ and __`NaiveBayes/Smoothed/NBmodel.txt`__. [`NOTE:` _This naming is important because we wrote our classification task so that it expects a file of that name... if this inelegance frustrates you there is an alternative that would involve a few adjustments to your code [read more about it here](http://www.tnoda.com/blog/2013-11-23)._] Finally run the checks that we provide to confirm that your results are correct.\n",
    "\n",
    "\n",
    "* __c) code:__ Recall that we designed our classification job with just a mapper. An efficient way to report the performance of our models would be to simply add a reducer phase to this job and compute precision and recall right there. Complete the code in __`NaiveBayes/evaluation_reducer.py`__ and then write Hadoop jobs to evaluate your two models on the test set. Report their performance side by side. [`NOTE:` if you need a refresher on precision, recall and F1-score [Wikipedia](https://en.wikipedia.org/wiki/F1_score) is a good resource.]\n",
    "\n",
    "\n",
    "* __d) short response:__ Compare the performance of your two models. What do you notice about the unsmoothed model's predictions? Can you guess why this is happening? Which evaluation measure do you think is most relevant in our use case? [`NOTE:` _Feel free to answer using your common sense but if you want more information on evaluating the classification task checkout_ [this blogpost](https://tryolabs.com/blog/2013/03/25/why-accuracy-alone-bad-measure-classification-tasks-and-what-we-can-do-about-it/\n",
    ") or [this paper](http://www.flinders.edu.au/science_engineering/fms/School-CSEM/publications/tech_reps-research_artfcts/TRRA_2007.pdf\n",
    ")]\n",
    "\n"
   ]
  },
  {
   "cell_type": "markdown",
   "metadata": {},
   "source": [
    "### Q9 Student Answers:\n",
    "> __d)__  In the unsmoothed model performance, we notice a lot of false negatives and low acuracy. This is because there are unseen words which due to no smoothing, are making the likelihood 0 for the document to be classified, when it is actually belonging to the class.\n",
    "While accuracy provides info about model's performance, it is not enough. We also need to consider precision since an email being categorized as spam when it is not is a very costly error. Recall also needs to be considered but it is not as important as precision. That is why fscore is not the appropriate metric to measure in this case because it gives equal weightage to precision and recall.\n",
    "\n"
   ]
  },
  {
   "cell_type": "markdown",
   "metadata": {},
   "source": [
    "__Test/Train split__"
   ]
  },
  {
   "cell_type": "code",
   "execution_count": 49,
   "metadata": {},
   "outputs": [
    {
     "name": "stdout",
     "output_type": "stream",
     "text": [
      "copyFromLocal: `/user/root/HW2/enron_train.txt': File exists\n",
      "copyFromLocal: `/user/root/HW2/enron_test.txt': File exists\n"
     ]
    }
   ],
   "source": [
    "# part a - test/train split (RUN THIS CELL AS IS)\n",
    "!head -n 80 data/enronemail_1h.txt > data/enron_train.txt\n",
    "!tail -n 20 data/enronemail_1h.txt > data/enron_test.txt\n",
    "!hdfs dfs -copyFromLocal data/enron_train.txt {HDFS_DIR}\n",
    "!hdfs dfs -copyFromLocal data/enron_test.txt {HDFS_DIR}"
   ]
  },
  {
   "cell_type": "markdown",
   "metadata": {},
   "source": [
    "__Training__ (Enron MNB Model _without smoothing_ )"
   ]
  },
  {
   "cell_type": "code",
   "execution_count": 50,
   "metadata": {},
   "outputs": [
    {
     "name": "stdout",
     "output_type": "stream",
     "text": [
      "Deleted /user/root/HW2/enron-model\n",
      "packageJobJar: [] [/usr/lib/hadoop-mapreduce/hadoop-streaming-2.6.0-cdh5.16.2.jar] /tmp/streamjob358471534606976465.jar tmpDir=null\n",
      "21/06/08 01:04:34 INFO client.RMProxy: Connecting to ResourceManager at /0.0.0.0:8032\n",
      "21/06/08 01:04:34 INFO client.RMProxy: Connecting to ResourceManager at /0.0.0.0:8032\n",
      "21/06/08 01:04:34 INFO mapred.FileInputFormat: Total input paths to process : 1\n",
      "21/06/08 01:04:35 INFO mapreduce.JobSubmitter: number of splits:2\n",
      "21/06/08 01:04:35 INFO mapreduce.JobSubmitter: Submitting tokens for job: job_1623070339035_0033\n",
      "21/06/08 01:04:35 INFO impl.YarnClientImpl: Submitted application application_1623070339035_0033\n",
      "21/06/08 01:04:35 INFO mapreduce.Job: The url to track the job: http://docker.w261:8088/proxy/application_1623070339035_0033/\n",
      "21/06/08 01:04:35 INFO mapreduce.Job: Running job: job_1623070339035_0033\n",
      "21/06/08 01:04:41 INFO mapreduce.Job: Job job_1623070339035_0033 running in uber mode : false\n",
      "21/06/08 01:04:41 INFO mapreduce.Job:  map 0% reduce 0%\n",
      "21/06/08 01:04:47 INFO mapreduce.Job:  map 50% reduce 0%\n",
      "21/06/08 01:04:48 INFO mapreduce.Job:  map 100% reduce 0%\n",
      "21/06/08 01:04:56 INFO mapreduce.Job:  map 100% reduce 67%\n",
      "21/06/08 01:04:57 INFO mapreduce.Job:  map 100% reduce 100%\n",
      "21/06/08 01:04:57 INFO mapreduce.Job: Job job_1623070339035_0033 completed successfully\n",
      "21/06/08 01:04:57 INFO mapreduce.Job: Counters: 50\n",
      "\tFile System Counters\n",
      "\t\tFILE: Number of bytes read=343834\n",
      "\t\tFILE: Number of bytes written=1439752\n",
      "\t\tFILE: Number of read operations=0\n",
      "\t\tFILE: Number of large read operations=0\n",
      "\t\tFILE: Number of write operations=0\n",
      "\t\tHDFS: Number of bytes read=167388\n",
      "\t\tHDFS: Number of bytes written=205147\n",
      "\t\tHDFS: Number of read operations=15\n",
      "\t\tHDFS: Number of large read operations=0\n",
      "\t\tHDFS: Number of write operations=6\n",
      "\tJob Counters \n",
      "\t\tKilled reduce tasks=1\n",
      "\t\tLaunched map tasks=2\n",
      "\t\tLaunched reduce tasks=3\n",
      "\t\tData-local map tasks=2\n",
      "\t\tTotal time spent by all maps in occupied slots (ms)=8930\n",
      "\t\tTotal time spent by all reduces in occupied slots (ms)=18864\n",
      "\t\tTotal time spent by all map tasks (ms)=8930\n",
      "\t\tTotal time spent by all reduce tasks (ms)=18864\n",
      "\t\tTotal vcore-milliseconds taken by all map tasks=8930\n",
      "\t\tTotal vcore-milliseconds taken by all reduce tasks=18864\n",
      "\t\tTotal megabyte-milliseconds taken by all map tasks=9144320\n",
      "\t\tTotal megabyte-milliseconds taken by all reduce tasks=19316736\n",
      "\tMap-Reduce Framework\n",
      "\t\tMap input records=80\n",
      "\t\tMap output records=25079\n",
      "\t\tMap output bytes=293658\n",
      "\t\tMap output materialized bytes=343852\n",
      "\t\tInput split bytes=226\n",
      "\t\tCombine input records=0\n",
      "\t\tCombine output records=0\n",
      "\t\tReduce input groups=4561\n",
      "\t\tReduce shuffle bytes=343852\n",
      "\t\tReduce input records=25079\n",
      "\t\tReduce output records=4556\n",
      "\t\tSpilled Records=50158\n",
      "\t\tShuffled Maps =6\n",
      "\t\tFailed Shuffles=0\n",
      "\t\tMerged Map outputs=6\n",
      "\t\tGC time elapsed (ms)=380\n",
      "\t\tCPU time spent (ms)=9310\n",
      "\t\tPhysical memory (bytes) snapshot=1538465792\n",
      "\t\tVirtual memory (bytes) snapshot=6906314752\n",
      "\t\tTotal committed heap usage (bytes)=1591214080\n",
      "\tShuffle Errors\n",
      "\t\tBAD_ID=0\n",
      "\t\tCONNECTION=0\n",
      "\t\tIO_ERROR=0\n",
      "\t\tWRONG_LENGTH=0\n",
      "\t\tWRONG_MAP=0\n",
      "\t\tWRONG_REDUCE=0\n",
      "\tFile Input Format Counters \n",
      "\t\tBytes Read=167162\n",
      "\tFile Output Format Counters \n",
      "\t\tBytes Written=205147\n",
      "21/06/08 01:04:57 INFO streaming.StreamJob: Output directory: /user/root/HW2//enron-model\n",
      "mkdir: cannot create directory `NaiveBayes/Unsmoothed': File exists\n"
     ]
    }
   ],
   "source": [
    "# part b -  Unsmoothed model (FILL IN THE MISSING CODE BELOW)\n",
    "\n",
    "# clear the output directory\n",
    "!hdfs dfs -rm -r {HDFS_DIR}/enron-model\n",
    "\n",
    "# hadoop command\n",
    "!hadoop jar {JAR_FILE} \\\n",
    "  -D stream.num.map.output.key.fields=2 \\\n",
    "  -D mapreduce.job.output.key.comparator.class=org.apache.hadoop.mapred.lib.KeyFieldBasedComparator \\\n",
    "  -D mapreduce.partition.keypartitioner.options=\"-k1,1\" \\\n",
    "  -D mapreduce.partition.keycomparator.options=\"-k2,2\" \\\n",
    "  -files NaiveBayes/train_mapper.py,NaiveBayes/train_reducer.py\\\n",
    "  -mapper train_mapper.py \\\n",
    "  -reducer train_reducer.py \\\n",
    "  -partitioner org.apache.hadoop.mapred.lib.KeyFieldBasedPartitioner \\\n",
    "  -input {HDFS_DIR}/enron_train.txt \\\n",
    "  -output {HDFS_DIR}/enron-model\\\n",
    "  -cmdenv PATH={PATH} \\\n",
    "  -numReduceTasks 3\n",
    "\n",
    "# save the model locally\n",
    "!mkdir NaiveBayes/Unsmoothed\n",
    "!hdfs dfs -cat {HDFS_DIR}/enron-model/part-000* > NaiveBayes/Unsmoothed/NBmodel.txt"
   ]
  },
  {
   "cell_type": "code",
   "execution_count": 51,
   "metadata": {},
   "outputs": [
    {
     "name": "stdout",
     "output_type": "stream",
     "text": [
      "assistance\t2.0,4.0,0.0001725476662928134,0.00029682398337785694\n"
     ]
    }
   ],
   "source": [
    "# part b - check your UNSMOOTHED model results (RUN THIS CELL AS IS)\n",
    "!grep assistance NaiveBayes/Unsmoothed/NBmodel.txt\n",
    "# EXPECTED OUTPUT: assistance\t2,4,0.000172547666293,0.000296823983378"
   ]
  },
  {
   "cell_type": "code",
   "execution_count": 52,
   "metadata": {},
   "outputs": [
    {
     "name": "stdout",
     "output_type": "stream",
     "text": [
      "money\t1.0,22.0,8.62738331464067e-05,0.001632531908578213\n"
     ]
    }
   ],
   "source": [
    "# part b - check your UNSMOOTHED model results (RUN THIS CELL AS IS)\n",
    "!grep money NaiveBayes/Unsmoothed/NBmodel.txt\n",
    "# EXPECTED OUTPUT: money\t1,22,8.62738331464e-05,0.00163253190858"
   ]
  },
  {
   "cell_type": "markdown",
   "metadata": {},
   "source": [
    "__Training__ (Enron MNB Model _with Laplace +1 smoothing_ )"
   ]
  },
  {
   "cell_type": "code",
   "execution_count": 53,
   "metadata": {},
   "outputs": [
    {
     "name": "stdout",
     "output_type": "stream",
     "text": [
      "Deleted /user/root/HW2/smooth-model\n",
      "Deleted /user/root/HW2/smooth-model_part1\n",
      "packageJobJar: [] [/usr/lib/hadoop-mapreduce/hadoop-streaming-2.6.0-cdh5.16.2.jar] /tmp/streamjob953613507999419806.jar tmpDir=null\n",
      "21/06/08 01:05:11 INFO client.RMProxy: Connecting to ResourceManager at /0.0.0.0:8032\n",
      "21/06/08 01:05:11 INFO client.RMProxy: Connecting to ResourceManager at /0.0.0.0:8032\n",
      "21/06/08 01:05:11 INFO mapred.FileInputFormat: Total input paths to process : 1\n",
      "21/06/08 01:05:12 INFO mapreduce.JobSubmitter: number of splits:2\n",
      "21/06/08 01:05:12 INFO mapreduce.JobSubmitter: Submitting tokens for job: job_1623070339035_0034\n",
      "21/06/08 01:05:12 INFO impl.YarnClientImpl: Submitted application application_1623070339035_0034\n",
      "21/06/08 01:05:12 INFO mapreduce.Job: The url to track the job: http://docker.w261:8088/proxy/application_1623070339035_0034/\n",
      "21/06/08 01:05:12 INFO mapreduce.Job: Running job: job_1623070339035_0034\n",
      "21/06/08 01:05:18 INFO mapreduce.Job: Job job_1623070339035_0034 running in uber mode : false\n",
      "21/06/08 01:05:18 INFO mapreduce.Job:  map 0% reduce 0%\n",
      "21/06/08 01:05:25 INFO mapreduce.Job:  map 50% reduce 0%\n",
      "21/06/08 01:05:26 INFO mapreduce.Job:  map 100% reduce 0%\n",
      "21/06/08 01:05:33 INFO mapreduce.Job:  map 100% reduce 33%\n",
      "21/06/08 01:05:35 INFO mapreduce.Job:  map 100% reduce 67%\n",
      "21/06/08 01:05:36 INFO mapreduce.Job:  map 100% reduce 100%\n",
      "21/06/08 01:05:36 INFO mapreduce.Job: Job job_1623070339035_0034 completed successfully\n",
      "21/06/08 01:05:36 INFO mapreduce.Job: Counters: 50\n",
      "\tFile System Counters\n",
      "\t\tFILE: Number of bytes read=343834\n",
      "\t\tFILE: Number of bytes written=1439962\n",
      "\t\tFILE: Number of read operations=0\n",
      "\t\tFILE: Number of large read operations=0\n",
      "\t\tFILE: Number of write operations=0\n",
      "\t\tHDFS: Number of bytes read=167388\n",
      "\t\tHDFS: Number of bytes written=80917\n",
      "\t\tHDFS: Number of read operations=15\n",
      "\t\tHDFS: Number of large read operations=0\n",
      "\t\tHDFS: Number of write operations=6\n",
      "\tJob Counters \n",
      "\t\tKilled reduce tasks=1\n",
      "\t\tLaunched map tasks=2\n",
      "\t\tLaunched reduce tasks=3\n",
      "\t\tData-local map tasks=2\n",
      "\t\tTotal time spent by all maps in occupied slots (ms)=8785\n",
      "\t\tTotal time spent by all reduces in occupied slots (ms)=17437\n",
      "\t\tTotal time spent by all map tasks (ms)=8785\n",
      "\t\tTotal time spent by all reduce tasks (ms)=17437\n",
      "\t\tTotal vcore-milliseconds taken by all map tasks=8785\n",
      "\t\tTotal vcore-milliseconds taken by all reduce tasks=17437\n",
      "\t\tTotal megabyte-milliseconds taken by all map tasks=8995840\n",
      "\t\tTotal megabyte-milliseconds taken by all reduce tasks=17855488\n",
      "\tMap-Reduce Framework\n",
      "\t\tMap input records=80\n",
      "\t\tMap output records=25079\n",
      "\t\tMap output bytes=293658\n",
      "\t\tMap output materialized bytes=343852\n",
      "\t\tInput split bytes=226\n",
      "\t\tCombine input records=0\n",
      "\t\tCombine output records=0\n",
      "\t\tReduce input groups=4561\n",
      "\t\tReduce shuffle bytes=343852\n",
      "\t\tReduce input records=25079\n",
      "\t\tReduce output records=4561\n",
      "\t\tSpilled Records=50158\n",
      "\t\tShuffled Maps =6\n",
      "\t\tFailed Shuffles=0\n",
      "\t\tMerged Map outputs=6\n",
      "\t\tGC time elapsed (ms)=299\n",
      "\t\tCPU time spent (ms)=9390\n",
      "\t\tPhysical memory (bytes) snapshot=1530679296\n",
      "\t\tVirtual memory (bytes) snapshot=6866710528\n",
      "\t\tTotal committed heap usage (bytes)=1591214080\n",
      "\tShuffle Errors\n",
      "\t\tBAD_ID=0\n",
      "\t\tCONNECTION=0\n",
      "\t\tIO_ERROR=0\n",
      "\t\tWRONG_LENGTH=0\n",
      "\t\tWRONG_MAP=0\n",
      "\t\tWRONG_REDUCE=0\n",
      "\tFile Input Format Counters \n",
      "\t\tBytes Read=167162\n",
      "\tFile Output Format Counters \n",
      "\t\tBytes Written=80917\n",
      "21/06/08 01:05:36 INFO streaming.StreamJob: Output directory: /user/root/HW2//smooth-model_part1\n",
      "packageJobJar: [] [/usr/lib/hadoop-mapreduce/hadoop-streaming-2.6.0-cdh5.16.2.jar] /tmp/streamjob1938059724732763737.jar tmpDir=null\n",
      "21/06/08 01:05:39 INFO client.RMProxy: Connecting to ResourceManager at /0.0.0.0:8032\n",
      "21/06/08 01:05:39 INFO client.RMProxy: Connecting to ResourceManager at /0.0.0.0:8032\n",
      "21/06/08 01:05:39 INFO mapred.FileInputFormat: Total input paths to process : 3\n",
      "21/06/08 01:05:40 INFO mapreduce.JobSubmitter: number of splits:3\n",
      "21/06/08 01:05:40 INFO mapreduce.JobSubmitter: Submitting tokens for job: job_1623070339035_0035\n",
      "21/06/08 01:05:40 INFO impl.YarnClientImpl: Submitted application application_1623070339035_0035\n",
      "21/06/08 01:05:40 INFO mapreduce.Job: The url to track the job: http://docker.w261:8088/proxy/application_1623070339035_0035/\n",
      "21/06/08 01:05:40 INFO mapreduce.Job: Running job: job_1623070339035_0035\n",
      "21/06/08 01:05:47 INFO mapreduce.Job: Job job_1623070339035_0035 running in uber mode : false\n",
      "21/06/08 01:05:47 INFO mapreduce.Job:  map 0% reduce 0%\n",
      "21/06/08 01:05:54 INFO mapreduce.Job:  map 33% reduce 0%\n",
      "21/06/08 01:05:55 INFO mapreduce.Job:  map 67% reduce 0%\n",
      "21/06/08 01:05:56 INFO mapreduce.Job:  map 100% reduce 0%\n",
      "21/06/08 01:06:03 INFO mapreduce.Job:  map 100% reduce 67%\n",
      "21/06/08 01:06:04 INFO mapreduce.Job:  map 100% reduce 100%\n",
      "21/06/08 01:06:04 INFO mapreduce.Job: Job job_1623070339035_0035 completed successfully\n",
      "21/06/08 01:06:04 INFO mapreduce.Job: Counters: 49\n",
      "\tFile System Counters\n",
      "\t\tFILE: Number of bytes read=90300\n",
      "\t\tFILE: Number of bytes written=1084047\n",
      "\t\tFILE: Number of read operations=0\n",
      "\t\tFILE: Number of large read operations=0\n",
      "\t\tFILE: Number of write operations=0\n",
      "\t\tHDFS: Number of bytes read=81298\n",
      "\t\tHDFS: Number of bytes written=272396\n",
      "\t\tHDFS: Number of read operations=18\n",
      "\t\tHDFS: Number of large read operations=0\n",
      "\t\tHDFS: Number of write operations=6\n",
      "\tJob Counters \n",
      "\t\tLaunched map tasks=3\n",
      "\t\tLaunched reduce tasks=3\n",
      "\t\tData-local map tasks=3\n",
      "\t\tTotal time spent by all maps in occupied slots (ms)=15719\n",
      "\t\tTotal time spent by all reduces in occupied slots (ms)=17798\n",
      "\t\tTotal time spent by all map tasks (ms)=15719\n",
      "\t\tTotal time spent by all reduce tasks (ms)=17798\n",
      "\t\tTotal vcore-milliseconds taken by all map tasks=15719\n",
      "\t\tTotal vcore-milliseconds taken by all reduce tasks=17798\n",
      "\t\tTotal megabyte-milliseconds taken by all map tasks=16096256\n",
      "\t\tTotal megabyte-milliseconds taken by all reduce tasks=18225152\n",
      "\tMap-Reduce Framework\n",
      "\t\tMap input records=4561\n",
      "\t\tMap output records=4570\n",
      "\t\tMap output bytes=81142\n",
      "\t\tMap output materialized bytes=90336\n",
      "\t\tInput split bytes=381\n",
      "\t\tCombine input records=0\n",
      "\t\tCombine output records=0\n",
      "\t\tReduce input groups=4564\n",
      "\t\tReduce shuffle bytes=90336\n",
      "\t\tReduce input records=4570\n",
      "\t\tReduce output records=4556\n",
      "\t\tSpilled Records=9140\n",
      "\t\tShuffled Maps =9\n",
      "\t\tFailed Shuffles=0\n",
      "\t\tMerged Map outputs=9\n",
      "\t\tGC time elapsed (ms)=463\n",
      "\t\tCPU time spent (ms)=8810\n",
      "\t\tPhysical memory (bytes) snapshot=1661865984\n",
      "\t\tVirtual memory (bytes) snapshot=8273518592\n",
      "\t\tTotal committed heap usage (bytes)=1777336320\n",
      "\tShuffle Errors\n",
      "\t\tBAD_ID=0\n",
      "\t\tCONNECTION=0\n",
      "\t\tIO_ERROR=0\n",
      "\t\tWRONG_LENGTH=0\n",
      "\t\tWRONG_MAP=0\n",
      "\t\tWRONG_REDUCE=0\n",
      "\tFile Input Format Counters \n",
      "\t\tBytes Read=80917\n",
      "\tFile Output Format Counters \n",
      "\t\tBytes Written=272396\n",
      "21/06/08 01:06:04 INFO streaming.StreamJob: Output directory: /user/root/HW2//smooth-model\n",
      "mkdir: cannot create directory `NaiveBayes/Smoothed': File exists\n"
     ]
    }
   ],
   "source": [
    "# part b -  Smoothed model (FILL IN THE MISSING CODE BELOW)\n",
    "\n",
    "# clear the output directory\n",
    "!hdfs dfs -rm -r {HDFS_DIR}/smooth-model\n",
    "!hdfs dfs -rm -r {HDFS_DIR}/smooth-model_part1\n",
    "\n",
    "# hadoop command\n",
    "!hadoop jar {JAR_FILE} \\\n",
    "  -D stream.num.map.output.key.fields=2 \\\n",
    "  -D mapreduce.job.output.key.comparator.class=org.apache.hadoop.mapred.lib.KeyFieldBasedComparator \\\n",
    "  -D mapreduce.partition.keypartitioner.options=\"-k1,1\" \\\n",
    "  -D mapreduce.partition.keycomparator.options=\"-k2,2\" \\\n",
    "  -files NaiveBayes/train_mapper.py,NaiveBayes/train_reducer_smooth.py\\\n",
    "  -mapper train_mapper.py \\\n",
    "  -reducer train_reducer_smooth.py \\\n",
    "  -partitioner org.apache.hadoop.mapred.lib.KeyFieldBasedPartitioner \\\n",
    "  -input {HDFS_DIR}/enron_train.txt \\\n",
    "  -output {HDFS_DIR}/smooth-model_part1\\\n",
    "  -cmdenv PATH={PATH} \\\n",
    "  -numReduceTasks 3\n",
    "\n",
    "!hadoop jar {JAR_FILE} \\\n",
    "  -D stream.num.map.output.key.fields=2 \\\n",
    "  -D mapreduce.job.output.key.comparator.class=org.apache.hadoop.mapred.lib.KeyFieldBasedComparator \\\n",
    "  -D mapreduce.partition.keypartitioner.options=\"-k1,1\" \\\n",
    "  -D mapreduce.partition.keycomparator.options=\"-k2,2\" \\\n",
    "  -files NaiveBayes/train_second_mapper_smooth.py,NaiveBayes/train_second_reducer_smooth.py\\\n",
    "  -mapper train_second_mapper_smooth.py \\\n",
    "  -reducer train_second_reducer_smooth.py \\\n",
    "  -partitioner org.apache.hadoop.mapred.lib.KeyFieldBasedPartitioner \\\n",
    "  -input {HDFS_DIR}/smooth-model_part1 \\\n",
    "  -output {HDFS_DIR}/smooth-model\\\n",
    "  -cmdenv PATH={PATH} \\\n",
    "  -numReduceTasks 3\n",
    "\n",
    "# save the model locally\n",
    "!mkdir NaiveBayes/Smoothed\n",
    "!hdfs dfs -cat {HDFS_DIR}/smooth-model/part-000* > NaiveBayes/Smoothed/NBmodel.txt"
   ]
  },
  {
   "cell_type": "code",
   "execution_count": 54,
   "metadata": {},
   "outputs": [
    {
     "name": "stdout",
     "output_type": "stream",
     "text": [
      "assistance\t2.0,4.0,0.0001858045336306206,0.00027730020520215184\n"
     ]
    }
   ],
   "source": [
    "# part b - check your SMOOTHED model results (RUN THIS CELL AS IS)\n",
    "!grep assistance NaiveBayes/Smoothed/NBmodel.txt\n",
    "# EXPECTED OUTPUT: assistance\t2,4,0.000185804533631,0.000277300205202"
   ]
  },
  {
   "cell_type": "code",
   "execution_count": 55,
   "metadata": {},
   "outputs": [
    {
     "name": "stdout",
     "output_type": "stream",
     "text": [
      "money\t1.0,22.0,0.0001238696890870804,0.0012755809439298986\n"
     ]
    }
   ],
   "source": [
    "# part b - check your SMOOTHED model results (RUN THIS CELL AS IS)\n",
    "!grep money NaiveBayes/Smoothed/NBmodel.txt\n",
    "# EXPECTED OUTPUT: money\t1,22,0.000123869689087,0.00127558094393"
   ]
  },
  {
   "cell_type": "markdown",
   "metadata": {},
   "source": [
    "__Evaluation__"
   ]
  },
  {
   "cell_type": "code",
   "execution_count": 56,
   "metadata": {},
   "outputs": [],
   "source": [
    "# part c - write your code in NaiveBayes/evaluation_reducer.py then RUN THIS\n",
    "!chmod a+x NaiveBayes/evaluation_reducer.py"
   ]
  },
  {
   "cell_type": "code",
   "execution_count": 57,
   "metadata": {},
   "outputs": [
    {
     "name": "stdout",
     "output_type": "stream",
     "text": [
      "d5\t1\t-8.90668134500626\t-8.10769031284611\t1\n",
      "d6\t1\t-5.780743515794329\t-4.179502370564408\t1\n",
      "d7\t0\t-6.591673732011658\t-7.511706880737812\t0\n",
      "d8\t0\t-4.394449154674438\t-5.565796731681498\t0\n"
     ]
    }
   ],
   "source": [
    "# part c - unit test your evaluation job on the chinese model (RUN THIS CELL AS IS)\n",
    "!cat NaiveBayes/chineseTest.txt | NaiveBayes/classify_mapper.py \n",
    "#!cat NaiveBayes/chineseTest.txt | NaiveBayes/classify_mapper.py | NaiveBayes/evaluation_reducer.py"
   ]
  },
  {
   "cell_type": "code",
   "execution_count": 58,
   "metadata": {},
   "outputs": [
    {
     "name": "stdout",
     "output_type": "stream",
     "text": [
      "Deleted /user/root/HW2/unsmooth-results\n",
      "rm: `/user/root/HW2//unsmooth-results-part1': No such file or directory\n",
      "packageJobJar: [] [/usr/lib/hadoop-mapreduce/hadoop-streaming-2.6.0-cdh5.16.2.jar] /tmp/streamjob934729413121623592.jar tmpDir=null\n",
      "21/06/08 01:06:19 INFO client.RMProxy: Connecting to ResourceManager at /0.0.0.0:8032\n",
      "21/06/08 01:06:19 INFO client.RMProxy: Connecting to ResourceManager at /0.0.0.0:8032\n",
      "21/06/08 01:06:20 INFO mapred.FileInputFormat: Total input paths to process : 1\n",
      "21/06/08 01:06:20 INFO mapreduce.JobSubmitter: number of splits:2\n",
      "21/06/08 01:06:20 INFO mapreduce.JobSubmitter: Submitting tokens for job: job_1623070339035_0036\n",
      "21/06/08 01:06:20 INFO impl.YarnClientImpl: Submitted application application_1623070339035_0036\n",
      "21/06/08 01:06:20 INFO mapreduce.Job: The url to track the job: http://docker.w261:8088/proxy/application_1623070339035_0036/\n",
      "21/06/08 01:06:20 INFO mapreduce.Job: Running job: job_1623070339035_0036\n",
      "21/06/08 01:06:27 INFO mapreduce.Job: Job job_1623070339035_0036 running in uber mode : false\n",
      "21/06/08 01:06:27 INFO mapreduce.Job:  map 0% reduce 0%\n",
      "21/06/08 01:06:33 INFO mapreduce.Job:  map 50% reduce 0%\n",
      "21/06/08 01:06:34 INFO mapreduce.Job:  map 100% reduce 0%\n",
      "21/06/08 01:06:39 INFO mapreduce.Job:  map 100% reduce 100%\n",
      "21/06/08 01:06:39 INFO mapreduce.Job: Job job_1623070339035_0036 completed successfully\n",
      "21/06/08 01:06:40 INFO mapreduce.Job: Counters: 49\n",
      "\tFile System Counters\n",
      "\t\tFILE: Number of bytes read=818\n",
      "\t\tFILE: Number of bytes written=451212\n",
      "\t\tFILE: Number of read operations=0\n",
      "\t\tFILE: Number of large read operations=0\n",
      "\t\tFILE: Number of write operations=0\n",
      "\t\tHDFS: Number of bytes read=49909\n",
      "\t\tHDFS: Number of bytes written=1049\n",
      "\t\tHDFS: Number of read operations=9\n",
      "\t\tHDFS: Number of large read operations=0\n",
      "\t\tHDFS: Number of write operations=2\n",
      "\tJob Counters \n",
      "\t\tLaunched map tasks=2\n",
      "\t\tLaunched reduce tasks=1\n",
      "\t\tData-local map tasks=2\n",
      "\t\tTotal time spent by all maps in occupied slots (ms)=8220\n",
      "\t\tTotal time spent by all reduces in occupied slots (ms)=3263\n",
      "\t\tTotal time spent by all map tasks (ms)=8220\n",
      "\t\tTotal time spent by all reduce tasks (ms)=3263\n",
      "\t\tTotal vcore-milliseconds taken by all map tasks=8220\n",
      "\t\tTotal vcore-milliseconds taken by all reduce tasks=3263\n",
      "\t\tTotal megabyte-milliseconds taken by all map tasks=8417280\n",
      "\t\tTotal megabyte-milliseconds taken by all reduce tasks=3341312\n",
      "\tMap-Reduce Framework\n",
      "\t\tMap input records=20\n",
      "\t\tMap output records=20\n",
      "\t\tMap output bytes=772\n",
      "\t\tMap output materialized bytes=824\n",
      "\t\tInput split bytes=224\n",
      "\t\tCombine input records=0\n",
      "\t\tCombine output records=0\n",
      "\t\tReduce input groups=20\n",
      "\t\tReduce shuffle bytes=824\n",
      "\t\tReduce input records=20\n",
      "\t\tReduce output records=29\n",
      "\t\tSpilled Records=40\n",
      "\t\tShuffled Maps =2\n",
      "\t\tFailed Shuffles=0\n",
      "\t\tMerged Map outputs=2\n",
      "\t\tGC time elapsed (ms)=151\n",
      "\t\tCPU time spent (ms)=2490\n",
      "\t\tPhysical memory (bytes) snapshot=860610560\n",
      "\t\tVirtual memory (bytes) snapshot=4140498944\n",
      "\t\tTotal committed heap usage (bytes)=888668160\n",
      "\tShuffle Errors\n",
      "\t\tBAD_ID=0\n",
      "\t\tCONNECTION=0\n",
      "\t\tIO_ERROR=0\n",
      "\t\tWRONG_LENGTH=0\n",
      "\t\tWRONG_MAP=0\n",
      "\t\tWRONG_REDUCE=0\n",
      "\tFile Input Format Counters \n",
      "\t\tBytes Read=49685\n",
      "\tFile Output Format Counters \n",
      "\t\tBytes Written=1049\n",
      "21/06/08 01:06:40 INFO streaming.StreamJob: Output directory: /user/root/HW2//unsmooth-results\n"
     ]
    }
   ],
   "source": [
    "# part c - Evaluate the UNSMOOTHED Model Here (FILL IN THE MISSING CODE)\n",
    "\n",
    "# clear the output directory\n",
    "!hdfs dfs -rm -r {HDFS_DIR}/unsmooth-results\n",
    "!hdfs dfs -rm -r {HDFS_DIR}/unsmooth-results-part1\n",
    "\n",
    "# hadoop job\n",
    "!hadoop jar {JAR_FILE} \\\n",
    "  -files NaiveBayes/classify_mapper.py,NaiveBayes/Unsmoothed/NBmodel.txt,NaiveBayes/evaluation_reducer.py \\\n",
    "  -mapper classify_mapper.py \\\n",
    "  -reducer evaluation_reducer.py \\\n",
    "  -input {HDFS_DIR}/enron_test.txt \\\n",
    "  -output {HDFS_DIR}/unsmooth-results \\\n",
    "  -numReduceTasks 1 \\\n",
    "  -cmdenv PATH={PATH}\n",
    "\n",
    "\n",
    "# retrieve results locally\n",
    "!hdfs dfs -cat {HDFS_DIR}/unsmooth-results/part-000* > NaiveBayes/Unsmoothed/results.txt"
   ]
  },
  {
   "cell_type": "code",
   "execution_count": 59,
   "metadata": {},
   "outputs": [
    {
     "name": "stdout",
     "output_type": "stream",
     "text": [
      "=========== UNSMOOTHED MODEL ============\n",
      "# Documents:\t20.0\n",
      "True Positives:\t1.0\n",
      "True Negatives:\t9.0\n",
      "False Positives:\t0.0\n",
      "False Negatives:\t10.0\n",
      "Accuracy:\t0.5\n",
      "Precision:\t1.0\n",
      "Recall:\t0.09090909090909091\n",
      "F-Score:\t0.16666666666666669\n",
      "=========== SMOOTHED MODEL ============\n",
      "# Documents:\t20.0\n",
      "True Positives:\t11.0\n",
      "True Negatives:\t6.0\n",
      "False Positives:\t3.0\n",
      "False Negatives:\t0.0\n",
      "Accuracy:\t0.85\n",
      "Precision:\t0.7857142857142857\n",
      "Recall:\t1.0\n",
      "F-Score:\t0.88\n"
     ]
    }
   ],
   "source": [
    "# part c - display results \n",
    "# NOTE: feel free to modify the tail commands to match the format of your results file\n",
    "print('=========== UNSMOOTHED MODEL ============')\n",
    "!tail -n 9 NaiveBayes/Unsmoothed/results.txt\n",
    "print('=========== SMOOTHED MODEL ============')\n",
    "!tail -n 9 NaiveBayes/Smoothed/results.txt"
   ]
  },
  {
   "cell_type": "markdown",
   "metadata": {},
   "source": [
    "__`EXPECTED RESULTS:`__ \n",
    "<table>\n",
    "<th>Unsmoothed Model</th>\n",
    "<th>Smoothed Model</th>\n",
    "<tr>\n",
    "<td><pre>\n",
    "# Documents:\t20\n",
    "True Positives:\t1\n",
    "True Negatives:\t9\n",
    "False Positives:\t0\n",
    "False Negatives:\t10\n",
    "Accuracy\t0.5\n",
    "Precision\t1.0\n",
    "Recall\t0.0909\n",
    "F-Score\t0.1666\n",
    "</pre></td>\n",
    "<td><pre>\n",
    "# Documents:\t20\n",
    "True Positives:\t11\n",
    "True Negatives:\t6\n",
    "False Positives:\t3\n",
    "False Negatives:\t0\n",
    "Accuracy\t0.85\n",
    "Precision\t0.7857\n",
    "Recall\t1.0\n",
    "F-Score\t0.88\n",
    "</pre></td>\n",
    "</tr>\n",
    "</table>\n",
    "\n",
    "__`NOTE:`__ _Don't be too disappointed if these seem low to you. We've trained and tested on a very very small corpus... bigger datasets coming soon!_"
   ]
  },
  {
   "cell_type": "markdown",
   "metadata": {},
   "source": [
    "# Question 10: Custom Partitioning and Secondary Sort\n",
    "\n",
    "Now that we have our model, we can analyse the results and think about future improvements.\n",
    "\n",
    "### Q10 Tasks:\n",
    "\n",
    "* __a) code + short response:__ Let's look at the top ten words with the highest conditional probability in `Spam` and in `Ham`. We'll do this by writing a Hadoop job that sorts the model file (`NaiveBayes/Smoothed/NBmodel.py`). Normally we'd have to run two jobs -- one that sorts on $P(word|ham)$ and another that sorts on $P(word|spam)$. However if we slighly modify the data format in the model file then we can get the top words in each class with just one job. We've written a mapper that will do just this for you. Read through __`NaiveBayes/model_sort_mapper.py`__ and then briefly explain how this mapper will allow us to partition and sort our model file. Write a Hadoop job that uses our mapper and `/bin/cat` for a reducer to partition and sort. Print out the top 10 words in each class (where 'top' == highest conditional probability).[`HINT:` _this should remind you a lot of what we did in Question 6._]\n",
    "\n",
    "\n",
    "* __b) short response:__ What do you notice about the 'top words' we printed in `a`? How would increasing the smoothing parameter 'k' affect the probabilities for the top words that you identified for 'a'. How would they affect the probabilities of words that occur much more in one class than another? In summary, how does the smoothing parameter 'k' affect the bias and the variance of our model. [`NOTE:` _you do not need to code anything for this task, but if you are struggling with it you could try changing 'k' and see what happens to the test set. We don't recommend doing this exploration with the Enron data because it will be harder to see the impact with such a big vocabulary_]"
   ]
  },
  {
   "cell_type": "markdown",
   "metadata": {},
   "source": [
    "### Q10 Student Answers:\n",
    "> __a)__ Type your answer here!\n",
    "\n",
    "> __b)__ Type your answer here!"
   ]
  },
  {
   "cell_type": "code",
   "execution_count": null,
   "metadata": {},
   "outputs": [],
   "source": [
    "# part a - write your Hadoop job here (sort smoothed model on P(word|class))\n",
    "\n",
    "# clear output directory\n",
    "\n",
    "# hadoop job"
   ]
  },
  {
   "cell_type": "code",
   "execution_count": null,
   "metadata": {},
   "outputs": [],
   "source": [
    "# part b - print top words in each class\n"
   ]
  },
  {
   "cell_type": "raw",
   "metadata": {},
   "source": [
    "Expected results:\n",
    "============== PART-00000===============\n",
    "ect\t378,0,0.023473306082001735,5.546004104043037e-05\tham\t0.023473306082001735\t\n",
    "and\t258,277,0.01604112473677691,0.015417891409239643\tham\t0.01604112473677691\t\n",
    "hou\t203,0,0.0126347082868822,5.546004104043037e-05\tham\t0.0126347082868822\t\n",
    "in\t160,157,0.009971509971509971,0.008762686484387999\tham\t0.009971509971509971\t\n",
    "for\t148,153,0.00922829183698749,0.008540846320226277\tham\t0.00922829183698749\t\n",
    "on\t122,95,0.007617985878855444,0.005324163939881316\tham\t0.007617985878855444\t\n",
    "enron\t116,0,0.007246376811594203,5.546004104043037e-05\tham\t0.007246376811594203\t\n",
    "will\t113,69,0.007060572277963582,0.003882202872830126\tham\t0.007060572277963582\t\n",
    "i\t113,106,0.007060572277963582,0.00593422439132605\tham\t0.007060572277963582\t\n",
    "this\t99,90,0.00619348445435402,0.005046863734679163\tham\t0.00619348445435402\t\n",
    "cat: Unable to write to output stream.\n",
    "============== PART-00001===============\n",
    "the\t453,535,0.02811841942276725,0.029726581997670677\tspam\t0.029726581997670677\t\n",
    "to\t350,420,0.021739130434782608,0.023348677278021184\tspam\t0.023348677278021184\t\n",
    "a\t168,274,0.010466988727858293,0.015251511286118352\tspam\t0.015251511286118352\t\n",
    "your\t35,271,0.002229654403567447,0.01508513116299706\tspam\t0.01508513116299706\t\n",
    "of\t188,252,0.011705685618729096,0.014031390383228884\tspam\t0.014031390383228884\t\n",
    "you\t80,252,0.005016722408026756,0.014031390383228884\tspam\t0.014031390383228884\t\n",
    "it\t30,119,0.0019199801808497462,0.0066552049248516446\tspam\t0.0066552049248516446\t\n",
    "com\t74,108,0.004645113340765515,0.006045144473406911\tspam\t0.006045144473406911\t\n",
    "that\t71,100,0.004459308807134894,0.005601464145083467\tspam\t0.005601464145083467\t\n",
    "or\t41,88,0.002601263470828688,0.004935943652598303\tspam\t0.004935943652598303\t\n",
    "cat: Unable to write to output stream.\n"
   ]
  },
  {
   "cell_type": "markdown",
   "metadata": {},
   "source": [
    "### Congratulations, you have completed HW2! Please refer to the readme for submission instructions.\n",
    "\n",
    "If you would like to provide feedback regarding this homework, please use the survey at: https://docs.google.com/forms/d/e/1FAIpQLSce9feiQeSkdP43A0ZYui1tMGIBfLfzb0rmgToQeZD9bXXX8Q/viewform"
   ]
  },
  {
   "cell_type": "code",
   "execution_count": null,
   "metadata": {},
   "outputs": [],
   "source": []
  }
 ],
 "metadata": {
  "kernelspec": {
   "display_name": "Python 3",
   "language": "python",
   "name": "python3"
  },
  "language_info": {
   "codemirror_mode": {
    "name": "ipython",
    "version": 3
   },
   "file_extension": ".py",
   "mimetype": "text/x-python",
   "name": "python",
   "nbconvert_exporter": "python",
   "pygments_lexer": "ipython3",
   "version": "3.8.3"
  }
 },
 "nbformat": 4,
 "nbformat_minor": 4
}
